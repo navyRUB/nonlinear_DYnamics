{
 "cells": [
  {
   "cell_type": "markdown",
   "metadata": {},
   "source": [
    "# Main Questions"
   ]
  },
  {
   "cell_type": "markdown",
   "metadata": {},
   "source": [
    "## 1. How does self organization emerge in physical systems?\n",
    "\n",
    "To answer this we need to understand the basic elements of self organization which is Synchronization where different systems will have identical activities"
   ]
  },
  {
   "cell_type": "markdown",
   "metadata": {},
   "source": [
    "We know that due to teh butterfy effect two initially close conditions will end up dramatically in different places, so it is dufficult to judge systems long term behaviour. Which this effect\n",
    "\n",
    "## 2. How can chaotic systems ever synchronize with each other ?"
   ]
  },
  {
   "cell_type": "markdown",
   "metadata": {},
   "source": [
    "watch this [video](https://www.youtube.com/watch?v=iE-f0S4Oug8) and this [video](https://www.youtube.com/watch?v=J-ca_bqWp4I) to get an idea. "
   ]
  },
  {
   "cell_type": "markdown",
   "metadata": {},
   "source": [
    "Even though the final state of two synchronized chaotic systems is not same, the average properties of the trajectory or the global behaviour tens to be same,, i.e both the \"agents\" will have attractractors with same topology.  This is called topological synchronization."
   ]
  },
  {
   "cell_type": "markdown",
   "metadata": {},
   "source": [
    "## 3 Can we make a chaotic synchronization even if the equations that govern the driving system are not known ?\n",
    "\n",
    "* Original idea of synchronized chaos can be found in this [paper](https://journals.aps.org/prl/pdf/10.1103/PhysRevLett.64.821)\n",
    "\n",
    "* To understand the math behind it explained by the best guy in the field watch this [video](https://www.youtube.com/watch?v=FJn9xIW5d20&list=PLbN57C5Zdl6j_qJA-pARJnKsmROzPnO9V&index=25)\n",
    "\n",
    "Look at this [paper](https://link.springer.com/article/10.1007/BF01038269) where they showed how to aproximate teh driving system structure by incorporating the neural networks in teh responce system.  "
   ]
  },
  {
   "cell_type": "code",
   "execution_count": null,
   "metadata": {},
   "outputs": [],
   "source": []
  }
 ],
 "metadata": {
  "kernelspec": {
   "display_name": "Python 3",
   "language": "python",
   "name": "python3"
  },
  "language_info": {
   "codemirror_mode": {
    "name": "ipython",
    "version": 3
   },
   "file_extension": ".py",
   "mimetype": "text/x-python",
   "name": "python",
   "nbconvert_exporter": "python",
   "pygments_lexer": "ipython3",
   "version": "3.6.9"
  },
  "toc": {
   "base_numbering": 1,
   "nav_menu": {},
   "number_sections": false,
   "sideBar": true,
   "skip_h1_title": false,
   "title_cell": "Table of Contents",
   "title_sidebar": "Contents",
   "toc_cell": false,
   "toc_position": {},
   "toc_section_display": true,
   "toc_window_display": false
  },
  "varInspector": {
   "cols": {
    "lenName": 16,
    "lenType": 16,
    "lenVar": 40
   },
   "kernels_config": {
    "python": {
     "delete_cmd_postfix": "",
     "delete_cmd_prefix": "del ",
     "library": "var_list.py",
     "varRefreshCmd": "print(var_dic_list())"
    },
    "r": {
     "delete_cmd_postfix": ") ",
     "delete_cmd_prefix": "rm(",
     "library": "var_list.r",
     "varRefreshCmd": "cat(var_dic_list()) "
    }
   },
   "types_to_exclude": [
    "module",
    "function",
    "builtin_function_or_method",
    "instance",
    "_Feature"
   ],
   "window_display": false
  }
 },
 "nbformat": 4,
 "nbformat_minor": 2
}
