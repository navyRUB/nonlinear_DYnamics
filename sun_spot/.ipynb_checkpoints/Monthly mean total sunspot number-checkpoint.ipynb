{
 "cells": [
  {
   "cell_type": "markdown",
   "metadata": {},
   "source": [
    "Sunspot data"
   ]
  },
  {
   "cell_type": "markdown",
   "metadata": {},
   "source": [
    "http://www.sidc.be/silso/datafiles"
   ]
  },
  {
   "cell_type": "code",
   "execution_count": 1,
   "metadata": {},
   "outputs": [
    {
     "name": "stdout",
     "output_type": "stream",
     "text": [
      "Populating the interactive namespace from numpy and matplotlib\n"
     ]
    }
   ],
   "source": [
    "import pandas as pd\n",
    "%pylab inline"
   ]
  },
  {
   "cell_type": "raw",
   "metadata": {},
   "source": [
    "Information on Data:\n",
    "http://www.sidc.be/silso/infosnmtot\n",
    "\n",
    "\n",
    "\n",
    "-------------------------------------------------------------------------------\n",
    "CSV\n",
    "-------------------------------------------------------------------------------\n",
    "Filename: SN_m_tot_V2.0.csv\n",
    "Format: Comma Separated values (adapted for import in spreadsheets)\n",
    "The separator is the semicolon ';'.\n",
    "\n",
    "Contents:\n",
    "Column 1-2: Gregorian calendar date\n",
    "- Year\n",
    "- Month\n",
    "Column 3: Date in fraction of year.\n",
    "Column 4: Monthly mean total sunspot number.\n",
    "Column 5: Monthly mean standard deviation of the input sunspot numbers.\n",
    "Column 6: Number of observations used to compute the monthly mean total sunspot number.\n",
    "Column 7: Definitive/provisional marker. '1' indicates that the value is definitive. '0' indicates that the value is still provisional."
   ]
  },
  {
   "cell_type": "code",
   "execution_count": 4,
   "metadata": {},
   "outputs": [],
   "source": [
    "df = pd.read_csv('SN_m_tot_V2.0.csv',sep=';',header=None,\n",
    "                names=['Year','Month','frac_year',\n",
    "                       'sunspots','std_sunspots','nof_observations','def_prov'])"
   ]
  },
  {
   "cell_type": "code",
   "execution_count": 5,
   "metadata": {},
   "outputs": [
    {
     "data": {
      "text/html": [
       "<div>\n",
       "<style scoped>\n",
       "    .dataframe tbody tr th:only-of-type {\n",
       "        vertical-align: middle;\n",
       "    }\n",
       "\n",
       "    .dataframe tbody tr th {\n",
       "        vertical-align: top;\n",
       "    }\n",
       "\n",
       "    .dataframe thead th {\n",
       "        text-align: right;\n",
       "    }\n",
       "</style>\n",
       "<table border=\"1\" class=\"dataframe\">\n",
       "  <thead>\n",
       "    <tr style=\"text-align: right;\">\n",
       "      <th></th>\n",
       "      <th>Year</th>\n",
       "      <th>Month</th>\n",
       "      <th>frac_year</th>\n",
       "      <th>sunspots</th>\n",
       "      <th>std_sunspots</th>\n",
       "      <th>nof_observations</th>\n",
       "      <th>def_prov</th>\n",
       "    </tr>\n",
       "  </thead>\n",
       "  <tbody>\n",
       "    <tr>\n",
       "      <th>3252</th>\n",
       "      <td>2020</td>\n",
       "      <td>1</td>\n",
       "      <td>2020.042</td>\n",
       "      <td>6.4</td>\n",
       "      <td>0.7</td>\n",
       "      <td>722</td>\n",
       "      <td>0</td>\n",
       "    </tr>\n",
       "    <tr>\n",
       "      <th>3253</th>\n",
       "      <td>2020</td>\n",
       "      <td>2</td>\n",
       "      <td>2020.124</td>\n",
       "      <td>0.4</td>\n",
       "      <td>0.1</td>\n",
       "      <td>853</td>\n",
       "      <td>0</td>\n",
       "    </tr>\n",
       "    <tr>\n",
       "      <th>3254</th>\n",
       "      <td>2020</td>\n",
       "      <td>3</td>\n",
       "      <td>2020.206</td>\n",
       "      <td>1.5</td>\n",
       "      <td>0.2</td>\n",
       "      <td>937</td>\n",
       "      <td>0</td>\n",
       "    </tr>\n",
       "    <tr>\n",
       "      <th>3255</th>\n",
       "      <td>2020</td>\n",
       "      <td>4</td>\n",
       "      <td>2020.288</td>\n",
       "      <td>5.4</td>\n",
       "      <td>0.6</td>\n",
       "      <td>1055</td>\n",
       "      <td>0</td>\n",
       "    </tr>\n",
       "    <tr>\n",
       "      <th>3256</th>\n",
       "      <td>2020</td>\n",
       "      <td>5</td>\n",
       "      <td>2020.373</td>\n",
       "      <td>0.2</td>\n",
       "      <td>0.1</td>\n",
       "      <td>1171</td>\n",
       "      <td>0</td>\n",
       "    </tr>\n",
       "  </tbody>\n",
       "</table>\n",
       "</div>"
      ],
      "text/plain": [
       "      Year  Month  frac_year  sunspots  std_sunspots  nof_observations  \\\n",
       "3252  2020      1   2020.042       6.4           0.7               722   \n",
       "3253  2020      2   2020.124       0.4           0.1               853   \n",
       "3254  2020      3   2020.206       1.5           0.2               937   \n",
       "3255  2020      4   2020.288       5.4           0.6              1055   \n",
       "3256  2020      5   2020.373       0.2           0.1              1171   \n",
       "\n",
       "      def_prov  \n",
       "3252         0  \n",
       "3253         0  \n",
       "3254         0  \n",
       "3255         0  \n",
       "3256         0  "
      ]
     },
     "execution_count": 5,
     "metadata": {},
     "output_type": "execute_result"
    }
   ],
   "source": [
    "df.tail()"
   ]
  },
  {
   "cell_type": "code",
   "execution_count": 6,
   "metadata": {},
   "outputs": [
    {
     "name": "stdout",
     "output_type": "stream",
     "text": [
      "<class 'pandas.core.frame.DataFrame'>\n",
      "RangeIndex: 3257 entries, 0 to 3256\n",
      "Data columns (total 7 columns):\n",
      "Year                3257 non-null int64\n",
      "Month               3257 non-null int64\n",
      "frac_year           3257 non-null float64\n",
      "sunspots            3257 non-null float64\n",
      "std_sunspots        3257 non-null float64\n",
      "nof_observations    3257 non-null int64\n",
      "def_prov            3257 non-null int64\n",
      "dtypes: float64(3), int64(4)\n",
      "memory usage: 178.2 KB\n"
     ]
    }
   ],
   "source": [
    "df.info()"
   ]
  },
  {
   "cell_type": "markdown",
   "metadata": {},
   "source": [
    "#### Some quick statistics about the data"
   ]
  },
  {
   "cell_type": "code",
   "execution_count": 7,
   "metadata": {},
   "outputs": [
    {
     "data": {
      "text/html": [
       "<div>\n",
       "<style scoped>\n",
       "    .dataframe tbody tr th:only-of-type {\n",
       "        vertical-align: middle;\n",
       "    }\n",
       "\n",
       "    .dataframe tbody tr th {\n",
       "        vertical-align: top;\n",
       "    }\n",
       "\n",
       "    .dataframe thead th {\n",
       "        text-align: right;\n",
       "    }\n",
       "</style>\n",
       "<table border=\"1\" class=\"dataframe\">\n",
       "  <thead>\n",
       "    <tr style=\"text-align: right;\">\n",
       "      <th></th>\n",
       "      <th>Year</th>\n",
       "      <th>Month</th>\n",
       "      <th>frac_year</th>\n",
       "      <th>sunspots</th>\n",
       "      <th>std_sunspots</th>\n",
       "      <th>nof_observations</th>\n",
       "      <th>def_prov</th>\n",
       "    </tr>\n",
       "  </thead>\n",
       "  <tbody>\n",
       "    <tr>\n",
       "      <th>count</th>\n",
       "      <td>3257.000000</td>\n",
       "      <td>3257.000000</td>\n",
       "      <td>3257.000000</td>\n",
       "      <td>3257.000000</td>\n",
       "      <td>3257.000000</td>\n",
       "      <td>3257.000000</td>\n",
       "      <td>3257.000000</td>\n",
       "    </tr>\n",
       "    <tr>\n",
       "      <th>mean</th>\n",
       "      <td>1884.208781</td>\n",
       "      <td>6.494627</td>\n",
       "      <td>1884.706334</td>\n",
       "      <td>81.948941</td>\n",
       "      <td>5.552103</td>\n",
       "      <td>102.215843</td>\n",
       "      <td>0.998465</td>\n",
       "    </tr>\n",
       "    <tr>\n",
       "      <th>std</th>\n",
       "      <td>78.363518</td>\n",
       "      <td>3.453097</td>\n",
       "      <td>78.363260</td>\n",
       "      <td>67.883760</td>\n",
       "      <td>5.224721</td>\n",
       "      <td>213.671024</td>\n",
       "      <td>0.039157</td>\n",
       "    </tr>\n",
       "    <tr>\n",
       "      <th>min</th>\n",
       "      <td>1749.000000</td>\n",
       "      <td>1.000000</td>\n",
       "      <td>1749.042000</td>\n",
       "      <td>0.000000</td>\n",
       "      <td>-1.000000</td>\n",
       "      <td>-1.000000</td>\n",
       "      <td>0.000000</td>\n",
       "    </tr>\n",
       "    <tr>\n",
       "      <th>25%</th>\n",
       "      <td>1816.000000</td>\n",
       "      <td>3.000000</td>\n",
       "      <td>1816.874000</td>\n",
       "      <td>24.100000</td>\n",
       "      <td>-1.000000</td>\n",
       "      <td>-1.000000</td>\n",
       "      <td>1.000000</td>\n",
       "    </tr>\n",
       "    <tr>\n",
       "      <th>50%</th>\n",
       "      <td>1884.000000</td>\n",
       "      <td>6.000000</td>\n",
       "      <td>1884.708000</td>\n",
       "      <td>67.500000</td>\n",
       "      <td>5.300000</td>\n",
       "      <td>30.000000</td>\n",
       "      <td>1.000000</td>\n",
       "    </tr>\n",
       "    <tr>\n",
       "      <th>75%</th>\n",
       "      <td>1952.000000</td>\n",
       "      <td>9.000000</td>\n",
       "      <td>1952.540000</td>\n",
       "      <td>122.600000</td>\n",
       "      <td>9.400000</td>\n",
       "      <td>31.000000</td>\n",
       "      <td>1.000000</td>\n",
       "    </tr>\n",
       "    <tr>\n",
       "      <th>max</th>\n",
       "      <td>2020.000000</td>\n",
       "      <td>12.000000</td>\n",
       "      <td>2020.373000</td>\n",
       "      <td>398.200000</td>\n",
       "      <td>23.500000</td>\n",
       "      <td>1438.000000</td>\n",
       "      <td>1.000000</td>\n",
       "    </tr>\n",
       "  </tbody>\n",
       "</table>\n",
       "</div>"
      ],
      "text/plain": [
       "              Year        Month    frac_year     sunspots  std_sunspots  \\\n",
       "count  3257.000000  3257.000000  3257.000000  3257.000000   3257.000000   \n",
       "mean   1884.208781     6.494627  1884.706334    81.948941      5.552103   \n",
       "std      78.363518     3.453097    78.363260    67.883760      5.224721   \n",
       "min    1749.000000     1.000000  1749.042000     0.000000     -1.000000   \n",
       "25%    1816.000000     3.000000  1816.874000    24.100000     -1.000000   \n",
       "50%    1884.000000     6.000000  1884.708000    67.500000      5.300000   \n",
       "75%    1952.000000     9.000000  1952.540000   122.600000      9.400000   \n",
       "max    2020.000000    12.000000  2020.373000   398.200000     23.500000   \n",
       "\n",
       "       nof_observations     def_prov  \n",
       "count       3257.000000  3257.000000  \n",
       "mean         102.215843     0.998465  \n",
       "std          213.671024     0.039157  \n",
       "min           -1.000000     0.000000  \n",
       "25%           -1.000000     1.000000  \n",
       "50%           30.000000     1.000000  \n",
       "75%           31.000000     1.000000  \n",
       "max         1438.000000     1.000000  "
      ]
     },
     "execution_count": 7,
     "metadata": {},
     "output_type": "execute_result"
    }
   ],
   "source": [
    "df.describe()"
   ]
  },
  {
   "cell_type": "markdown",
   "metadata": {},
   "source": [
    "#### Modify data: remove the rows where the number of sunspots are -1"
   ]
  },
  {
   "cell_type": "code",
   "execution_count": 8,
   "metadata": {},
   "outputs": [],
   "source": [
    "df = df[df.sunspots != -1]"
   ]
  },
  {
   "cell_type": "code",
   "execution_count": 9,
   "metadata": {},
   "outputs": [
    {
     "data": {
      "text/html": [
       "<div>\n",
       "<style scoped>\n",
       "    .dataframe tbody tr th:only-of-type {\n",
       "        vertical-align: middle;\n",
       "    }\n",
       "\n",
       "    .dataframe tbody tr th {\n",
       "        vertical-align: top;\n",
       "    }\n",
       "\n",
       "    .dataframe thead th {\n",
       "        text-align: right;\n",
       "    }\n",
       "</style>\n",
       "<table border=\"1\" class=\"dataframe\">\n",
       "  <thead>\n",
       "    <tr style=\"text-align: right;\">\n",
       "      <th></th>\n",
       "      <th>Year</th>\n",
       "      <th>Month</th>\n",
       "      <th>frac_year</th>\n",
       "      <th>sunspots</th>\n",
       "      <th>std_sunspots</th>\n",
       "      <th>nof_observations</th>\n",
       "      <th>def_prov</th>\n",
       "    </tr>\n",
       "  </thead>\n",
       "  <tbody>\n",
       "    <tr>\n",
       "      <th>0</th>\n",
       "      <td>1749</td>\n",
       "      <td>1</td>\n",
       "      <td>1749.042</td>\n",
       "      <td>96.7</td>\n",
       "      <td>-1.0</td>\n",
       "      <td>-1</td>\n",
       "      <td>1</td>\n",
       "    </tr>\n",
       "    <tr>\n",
       "      <th>1</th>\n",
       "      <td>1749</td>\n",
       "      <td>2</td>\n",
       "      <td>1749.123</td>\n",
       "      <td>104.3</td>\n",
       "      <td>-1.0</td>\n",
       "      <td>-1</td>\n",
       "      <td>1</td>\n",
       "    </tr>\n",
       "    <tr>\n",
       "      <th>2</th>\n",
       "      <td>1749</td>\n",
       "      <td>3</td>\n",
       "      <td>1749.204</td>\n",
       "      <td>116.7</td>\n",
       "      <td>-1.0</td>\n",
       "      <td>-1</td>\n",
       "      <td>1</td>\n",
       "    </tr>\n",
       "    <tr>\n",
       "      <th>3</th>\n",
       "      <td>1749</td>\n",
       "      <td>4</td>\n",
       "      <td>1749.288</td>\n",
       "      <td>92.8</td>\n",
       "      <td>-1.0</td>\n",
       "      <td>-1</td>\n",
       "      <td>1</td>\n",
       "    </tr>\n",
       "    <tr>\n",
       "      <th>4</th>\n",
       "      <td>1749</td>\n",
       "      <td>5</td>\n",
       "      <td>1749.371</td>\n",
       "      <td>141.7</td>\n",
       "      <td>-1.0</td>\n",
       "      <td>-1</td>\n",
       "      <td>1</td>\n",
       "    </tr>\n",
       "  </tbody>\n",
       "</table>\n",
       "</div>"
      ],
      "text/plain": [
       "   Year  Month  frac_year  sunspots  std_sunspots  nof_observations  def_prov\n",
       "0  1749      1   1749.042      96.7          -1.0                -1         1\n",
       "1  1749      2   1749.123     104.3          -1.0                -1         1\n",
       "2  1749      3   1749.204     116.7          -1.0                -1         1\n",
       "3  1749      4   1749.288      92.8          -1.0                -1         1\n",
       "4  1749      5   1749.371     141.7          -1.0                -1         1"
      ]
     },
     "execution_count": 9,
     "metadata": {},
     "output_type": "execute_result"
    }
   ],
   "source": [
    "df.head()"
   ]
  },
  {
   "cell_type": "code",
   "execution_count": 10,
   "metadata": {},
   "outputs": [
    {
     "data": {
      "text/plain": [
       "3257"
      ]
     },
     "execution_count": 10,
     "metadata": {},
     "output_type": "execute_result"
    }
   ],
   "source": [
    "len(df)"
   ]
  },
  {
   "cell_type": "markdown",
   "metadata": {},
   "source": [
    "## visualization"
   ]
  },
  {
   "cell_type": "code",
   "execution_count": 14,
   "metadata": {},
   "outputs": [],
   "source": [
    "import plotly.graph_objects as go\n",
    "from ipywidgets import interact, IntSlider"
   ]
  },
  {
   "cell_type": "code",
   "execution_count": 20,
   "metadata": {},
   "outputs": [
    {
     "data": {
      "application/vnd.jupyter.widget-view+json": {
       "model_id": "cba2bd05b6324581b4557ef3d0c6b79d",
       "version_major": 2,
       "version_minor": 0
      },
      "text/plain": [
       "interactive(children=(IntSlider(value=1, description='day', max=54, min=1), Output()), _dom_classes=('widget-i…"
      ]
     },
     "metadata": {},
     "output_type": "display_data"
    }
   ],
   "source": [
    "def show_data_scatter3(day):\n",
    "    \n",
    "    \n",
    "    plt.figure(figsize=(15,15))\n",
    "    plt.scatter(x= df['sunspots'][1::2][0:0+30*day],\n",
    "        y = df['sunspots'][0::2][0:0+30*day],s=5,alpha=0.5)\n",
    "\n",
    "    plt.show()\n",
    "    \n",
    "interact(show_data_scatter3,day=IntSlider(min=1, max=54));"
   ]
  },
  {
   "cell_type": "code",
   "execution_count": 23,
   "metadata": {},
   "outputs": [
    {
     "data": {
      "application/vnd.jupyter.widget-view+json": {
       "model_id": "d42625e01dfd42ddb33532caa4cfb9e8",
       "version_major": 2,
       "version_minor": 0
      },
      "text/plain": [
       "interactive(children=(IntSlider(value=1, description='day', max=150, min=1), Output()), _dom_classes=('widget-…"
      ]
     },
     "metadata": {},
     "output_type": "display_data"
    }
   ],
   "source": [
    "def show_data_scatter3(day):\n",
    "    \n",
    "    \n",
    "    plt.figure(figsize=(15,15))\n",
    "    plt.plot(df['sunspots'][1::2][100:100+10*day],\n",
    "        df['sunspots'][0::2][100:100+10*day],alpha=0.5)\n",
    "\n",
    "    plt.show()\n",
    "    \n",
    "interact(show_data_scatter3,day=IntSlider(min=1, max=150));"
   ]
  },
  {
   "cell_type": "code",
   "execution_count": null,
   "metadata": {},
   "outputs": [],
   "source": []
  }
 ],
 "metadata": {
  "kernelspec": {
   "display_name": "Python 3",
   "language": "python",
   "name": "python3"
  },
  "language_info": {
   "codemirror_mode": {
    "name": "ipython",
    "version": 3
   },
   "file_extension": ".py",
   "mimetype": "text/x-python",
   "name": "python",
   "nbconvert_exporter": "python",
   "pygments_lexer": "ipython3",
   "version": "3.6.9"
  }
 },
 "nbformat": 4,
 "nbformat_minor": 2
}
