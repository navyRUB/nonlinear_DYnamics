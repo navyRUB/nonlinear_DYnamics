{
 "cells": [
  {
   "cell_type": "markdown",
   "metadata": {},
   "source": [
    "# Harmonic Oscillator"
   ]
  },
  {
   "cell_type": "markdown",
   "metadata": {},
   "source": [
    "A simple harmonic oscillator is an oscillator that is neighther driven nor damped. It consists of mass `m` which experiences a single force `F` which pulls the mass in the direction of teh point `x=0` and depends only on the position `x` of the mass and a constant `k` "
   ]
  },
  {
   "cell_type": "markdown",
   "metadata": {},
   "source": [
    "![](https://lh3.googleusercontent.com/proxy/Cp7rgoxGR2JHqv0-ZgQWyDc9ZTWRCHR11t2kuIzHlY2toBcqRoZg8KqeqW7iCThye1K7n4igDHRj8N-B9-vdLL5WfXID-PF3lGagiXxFWIC2cV1qwzupdPo-wWt-ihwAzB31x1FMDwNGkZ_RslDxCydzve-ALI7vCMr2dQfyAbYqvGVFPrBH5O8)"
   ]
  },
  {
   "cell_type": "markdown",
   "metadata": {
    "heading_collapsed": true
   },
   "source": [
    "#### **Framing equations**:\n",
    "Using Newtons second law"
   ]
  },
  {
   "cell_type": "markdown",
   "metadata": {
    "hidden": true
   },
   "source": [
    "![](https://wikimedia.org/api/rest_v1/media/math/render/svg/e700293120d5c492003ea0f6fc075e23fe54481a)"
   ]
  },
  {
   "cell_type": "markdown",
   "metadata": {
    "hidden": true
   },
   "source": [
    "![](https://wikimedia.org/api/rest_v1/media/math/render/svg/e98b4f368cf0f8db5deae9c10c2423ab28d2e6f8)"
   ]
  },
  {
   "cell_type": "markdown",
   "metadata": {},
   "source": [
    "#### **ODE**"
   ]
  },
  {
   "cell_type": "markdown",
   "metadata": {},
   "source": [
    "$$\\dot{x} = v$$\n",
    "\n",
    "$$ \\dot{v} = - \\frac{k}{m}x$$"
   ]
  },
  {
   "cell_type": "markdown",
   "metadata": {},
   "source": [
    "#### forward Euler method"
   ]
  },
  {
   "cell_type": "markdown",
   "metadata": {},
   "source": [
    "$$ x_{n+1} = x_{n} + dt*(v_{n}) $$\n",
    "$$  v_{n+1} = v_{n} + dt*(- \\frac{k}{m}x_{n})  $$"
   ]
  },
  {
   "cell_type": "markdown",
   "metadata": {},
   "source": [
    "# Solving Numerically"
   ]
  },
  {
   "cell_type": "markdown",
   "metadata": {},
   "source": [
    "### 1. Import LIbraries"
   ]
  },
  {
   "cell_type": "code",
   "execution_count": 1,
   "metadata": {},
   "outputs": [
    {
     "name": "stderr",
     "output_type": "stream",
     "text": [
      "/nethome/n.kusampudi/.local/lib/python3.6/site-packages/numba/core/errors.py:154: UserWarning: Insufficiently recent colorama version found. Numba requires colorama >= 0.3.9\n",
      "  warnings.warn(msg)\n"
     ]
    }
   ],
   "source": [
    "import numpy as np\n",
    "import pandas as pd\n",
    "from numba import jit\n",
    "from math import sin,cos, sqrt, fabs"
   ]
  },
  {
   "cell_type": "code",
   "execution_count": 2,
   "metadata": {},
   "outputs": [],
   "source": [
    "#plotting libraries\n",
    "import datashader as ds\n",
    "from datashader import transfer_functions as tf\n",
    "from datashader.colors import inferno, viridis\n",
    "from colorcet import palette\n",
    "import holoviews as hv\n",
    "from holoviews.operation.datashader import datashade, dynspread"
   ]
  },
  {
   "cell_type": "markdown",
   "metadata": {},
   "source": [
    "### 2. Define ODE"
   ]
  },
  {
   "cell_type": "code",
   "execution_count": null,
   "metadata": {},
   "outputs": [],
   "source": [
    "@jit(nopython=True)\n",
    "def simp_Harm_osc(x,v,k,m,dt,*o):\n",
    "    \"\"\"\n",
    "    returns the next values of the iteration \n",
    "    x,v: system varaibles\n",
    "    k,m: system parameters\n",
    "    dt: delta time\n",
    "    \"\"\"\n",
    "    return x + dt*(v),\\\n",
    "            v - dt*((k/m)*x)\n"
   ]
  },
  {
   "cell_type": "markdown",
   "metadata": {},
   "source": [
    "### 3. Function to get trajectory"
   ]
  },
  {
   "cell_type": "code",
   "execution_count": null,
   "metadata": {},
   "outputs": [],
   "source": [
    "n = 100 # number of iterations\n",
    "@jit(nopython=True)\n",
    "def trajectory_coords(fn,x0,v0,k,m,dt,n=n):\n",
    "    \"\"\"\n",
    "    returns trajectory of given ODE for n iterations\n",
    "    x0,y0: initial position, velocity\n",
    "    k,m: stiffness, mass\n",
    "    dt,n: delta_time, total no of iterations\n",
    "    \"\"\"\n",
    "    # create empty arrays\n",
    "    x,v = np.zeros(n), np.zeros(n)\n",
    "    \n",
    "    # assign inital conditions\n",
    "    x[0], v[0] = x0,v0\n",
    "    \n",
    "    # get trajectory (main loop)\n",
    "    for i in np.arange(n-1):\n",
    "        x[i+1], v[i+1] = fn(x[i], v[i],k,m,dt)\n",
    "    return x,v"
   ]
  },
  {
   "cell_type": "code",
   "execution_count": null,
   "metadata": {},
   "outputs": [],
   "source": [
    "def trajectory(fn,x0,v0,k,m,dt,n=n):\n",
    "    \"\"\"\n",
    "    returns the trajectory as pandas dataframe\n",
    "    \"\"\"\n",
    "    x,v = trajectory_coords(fn,x0,v0,k,m,dt,n=n)\n",
    "    \n",
    "    return pd.DataFrame(dict(x=x,v=v))"
   ]
  },
  {
   "cell_type": "code",
   "execution_count": null,
   "metadata": {},
   "outputs": [],
   "source": [
    "def get_attractor()"
   ]
  },
  {
   "cell_type": "markdown",
   "metadata": {},
   "source": [
    "### 4.  Test simulations"
   ]
  },
  {
   "cell_type": "markdown",
   "metadata": {},
   "source": [
    "#### get data"
   ]
  },
  {
   "cell_type": "code",
   "execution_count": null,
   "metadata": {},
   "outputs": [],
   "source": [
    "# test\n",
    "test_df = trajectory(simp_Harm_osc, 1.0,1.0,2.0,3.0,0.01,1000000)"
   ]
  },
  {
   "cell_type": "code",
   "execution_count": null,
   "metadata": {},
   "outputs": [],
   "source": [
    "test_df.tail()"
   ]
  },
  {
   "cell_type": "markdown",
   "metadata": {},
   "source": [
    "#### plot attractor"
   ]
  },
  {
   "cell_type": "code",
   "execution_count": null,
   "metadata": {},
   "outputs": [],
   "source": [
    "palette[\"viridis\"] = viridis\n",
    "palette[\"inferno\"] = inferno"
   ]
  },
  {
   "cell_type": "code",
   "execution_count": null,
   "metadata": {},
   "outputs": [],
   "source": [
    "# plotting trajectory\n",
    "ds.transfer_functions.Image.border=0\n",
    "cvs = ds.Canvas(plot_width=300, plot_height=300)\n",
    "agg = cvs.points(test_df, \"x\",\"v\")\n",
    "tf.shade(agg, cmap=palette[\"viridis\"])"
   ]
  },
  {
   "cell_type": "code",
   "execution_count": null,
   "metadata": {},
   "outputs": [],
   "source": [
    "# Bokeh plot\n",
    "hv.extension(\"bokeh\")\n",
    "dynspread(datashade(hv.Points(test_df),\n",
    "                   cmap= \"viridis\").opts(width=400,height=400))"
   ]
  },
  {
   "cell_type": "code",
   "execution_count": null,
   "metadata": {},
   "outputs": [],
   "source": [
    "# interactive bokeh"
   ]
  },
  {
   "cell_type": "code",
   "execution_count": 3,
   "metadata": {},
   "outputs": [],
   "source": [
    "def interactive_dynamics(x0,v0,k,m,dt,n=100):\n",
    "    \n",
    "    \"\"\"\n",
    "    function that plots trajectory\n",
    "    \"\"\"\n",
    "    return datashade(hv.Points(trajectory(simp_Harm_osc,x0,v0,k,m,dt,n=n)),\n",
    "                    cmap=inferno[::-1],dynamic=False)"
   ]
  },
  {
   "cell_type": "code",
   "execution_count": 4,
   "metadata": {},
   "outputs": [],
   "source": [
    "x0,v0,k,m,dt,n = 1.0,1.0,1.0,1.0,0.01,100"
   ]
  },
  {
   "cell_type": "code",
   "execution_count": 5,
   "metadata": {},
   "outputs": [
    {
     "data": {
      "text/plain": [
       ":DynamicMap   [x0,v0,k,m,dt,n]"
      ]
     },
     "execution_count": 5,
     "metadata": {},
     "output_type": "execute_result"
    }
   ],
   "source": [
    "dm = hv.DynamicMap(interactive_dynamics, kdims=[\"x0\",\"v0\",\"k\",\"m\",\"dt\",\"n\"])\n",
    "dm = dm.redim.range(x0=(-2.0,2.0),v0=(-2.0,2.0),k=(-2.0,2.0),m=(-2.0,2.0),\n",
    "                    dt=(0.01,10.0),n=(100,1000))\n",
    "dm = dm.redim.default(x0=x0,v0=v0,k=k,\n",
    "                      m=m,dt=dt,n=n).opts(width=400,height=400)\n",
    "dm"
   ]
  },
  {
   "cell_type": "code",
   "execution_count": null,
   "metadata": {},
   "outputs": [],
   "source": []
  }
 ],
 "metadata": {
  "@webio": {
   "lastCommId": null,
   "lastKernelId": null
  },
  "kernelspec": {
   "display_name": "Python 3",
   "language": "python",
   "name": "python3"
  },
  "language_info": {
   "codemirror_mode": {
    "name": "ipython",
    "version": 3
   },
   "file_extension": ".py",
   "mimetype": "text/x-python",
   "name": "python",
   "nbconvert_exporter": "python",
   "pygments_lexer": "ipython3",
   "version": "3.6.9"
  },
  "toc": {
   "base_numbering": 1,
   "nav_menu": {},
   "number_sections": false,
   "sideBar": true,
   "skip_h1_title": false,
   "title_cell": "Table of Contents",
   "title_sidebar": "Contents",
   "toc_cell": false,
   "toc_position": {},
   "toc_section_display": true,
   "toc_window_display": false
  },
  "varInspector": {
   "cols": {
    "lenName": 16,
    "lenType": 16,
    "lenVar": 40
   },
   "kernels_config": {
    "python": {
     "delete_cmd_postfix": "",
     "delete_cmd_prefix": "del ",
     "library": "var_list.py",
     "varRefreshCmd": "print(var_dic_list())"
    },
    "r": {
     "delete_cmd_postfix": ") ",
     "delete_cmd_prefix": "rm(",
     "library": "var_list.r",
     "varRefreshCmd": "cat(var_dic_list()) "
    }
   },
   "types_to_exclude": [
    "module",
    "function",
    "builtin_function_or_method",
    "instance",
    "_Feature"
   ],
   "window_display": false
  }
 },
 "nbformat": 4,
 "nbformat_minor": 2
}
