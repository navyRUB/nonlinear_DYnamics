{
 "cells": [
  {
   "cell_type": "markdown",
   "metadata": {},
   "source": [
    "# Gissinger Attractor \n",
    "[original paper](https://arxiv.org/pdf/1109.6569.pdf)"
   ]
  },
  {
   "cell_type": "markdown",
   "metadata": {},
   "source": [
    "A. Define Dynamical System\n",
    "\n",
    "B. Get trajectoriees\n",
    "\n",
    "C. Plot attractor\n",
    "\n",
    "D. Plot return map\n",
    "\n",
    "E. Lyapuno exponents"
   ]
  },
  {
   "cell_type": "code",
   "execution_count": 5,
   "metadata": {},
   "outputs": [],
   "source": [
    "using DynamicalSystems, Plots"
   ]
  },
  {
   "cell_type": "markdown",
   "metadata": {},
   "source": [
    "# A. Define Dynamical system"
   ]
  },
  {
   "cell_type": "raw",
   "metadata": {},
   "source": [
    "Q̇ = μ*Q - V*D\n",
    "Ḋ = -ν*D + V*D\n",
    "V̇ = Γ - V + V*D"
   ]
  },
  {
   "cell_type": "code",
   "execution_count": 18,
   "metadata": {},
   "outputs": [
    {
     "data": {
      "text/plain": [
       "gessinger_ODE (generic function with 1 method)"
      ]
     },
     "execution_count": 18,
     "metadata": {},
     "output_type": "execute_result"
    }
   ],
   "source": [
    "function gessinger_ODE(u, p, t)\n",
    "    Q, D, V = u\n",
    "    μ, ν, Γ = p\n",
    "    \n",
    "    Q̇ = μ*Q - V*D\n",
    "    Ḋ = -ν*D + V*D\n",
    "    V̇ = Γ - V + V*D\n",
    "    \n",
    "    return SVector(Q̇ , Ḋ, V̇)\n",
    "end"
   ]
  },
  {
   "cell_type": "code",
   "execution_count": 22,
   "metadata": {},
   "outputs": [
    {
     "data": {
      "text/plain": [
       "3-dimensional continuous dynamical system\n",
       " state:       [0.6, 0.2, 0.5]\n",
       " e.o.m.:      gessinger_ODE\n",
       " in-place?    false\n",
       " jacobian:    ForwardDiff\n",
       " parameters:  [0.119, 0.1, 0.9]"
      ]
     },
     "execution_count": 22,
     "metadata": {},
     "output_type": "execute_result"
    }
   ],
   "source": [
    "#initial state\n",
    "u₀ = SVector(0.6, 0.2, 0.5)\n",
    "#parameters\n",
    "p  = [0.119, 0.1, 0.9]\n",
    "\n",
    "# define ODE problem\n",
    "gessinger = ContinuousDynamicalSystem(gessinger_ODE, u₀, p)"
   ]
  },
  {
   "cell_type": "code",
   "execution_count": 23,
   "metadata": {},
   "outputs": [],
   "source": [
    "using OrdinaryDiffEq, StaticArrays"
   ]
  },
  {
   "cell_type": "code",
   "execution_count": 24,
   "metadata": {},
   "outputs": [
    {
     "ename": "LoadError",
     "evalue": "The length of tspan must be two (and preferably, tspan should be a tuple, i.e. (0.0,1.0)). If you are trying to include other values for saving reasons, note see the [common solver arguments page](https://docs.juliadiffeq.org/latest/basics/common_solver_opts/) for information on the saving command saveat.",
     "output_type": "error",
     "traceback": [
      "The length of tspan must be two (and preferably, tspan should be a tuple, i.e. (0.0,1.0)). If you are trying to include other values for saving reasons, note see the [common solver arguments page](https://docs.juliadiffeq.org/latest/basics/common_solver_opts/) for information on the saving command saveat.",
      "",
      "Stacktrace:",
      " [1] error(::String) at ./error.jl:33",
      " [2] promote_tspan(::SArray{Tuple{3},Float64,1,3}) at /nethome/n.kusampudi/.julia/packages/DiffEqBase/V7P18/src/problems/problem_utils.jl:11",
      " [3] ODEProblem{false,tType,isinplace,P,F,K,PT} where PT where K where F where P where isinplace where tType(::ODEFunction{false,typeof(gessinger_ODE),LinearAlgebra.UniformScaling{Bool},Nothing,Nothing,DynamicalSystemsBase.var\"#12#19\"{typeof(gessinger_ODE)},Nothing,Nothing,Nothing,Nothing,Nothing,Nothing,Nothing,Nothing,Nothing}, ::SArray{Tuple{3},Float64,1,3}, ::SArray{Tuple{3},Float64,1,3}, ::Tuple{Float64,Float64}, ::Array{Float64,1}; kwargs::Base.Iterators.Pairs{Union{},Union{},Tuple{},NamedTuple{(),Tuple{}}}) at /nethome/n.kusampudi/.julia/packages/DiffEqBase/V7P18/src/problems/ode_problems.jl:34",
      " [4] ODEProblem{false,tType,isinplace,P,F,K,PT} where PT where K where F where P where isinplace where tType(::ODEFunction{false,typeof(gessinger_ODE),LinearAlgebra.UniformScaling{Bool},Nothing,Nothing,DynamicalSystemsBase.var\"#12#19\"{typeof(gessinger_ODE)},Nothing,Nothing,Nothing,Nothing,Nothing,Nothing,Nothing,Nothing,Nothing}, ::SArray{Tuple{3},Float64,1,3}, ::SArray{Tuple{3},Float64,1,3}, ::Tuple{Float64,Float64}, ::Array{Float64,1}) at /nethome/n.kusampudi/.julia/packages/DiffEqBase/V7P18/src/problems/ode_problems.jl:34",
      " [5] ODEProblem(::ContinuousDynamicalSystem{false,SArray{Tuple{3},Float64,1,3},3,typeof(gessinger_ODE),Array{Float64,1},DynamicalSystemsBase.var\"#12#19\"{typeof(gessinger_ODE)},SArray{Tuple{3,3},Float64,2,9},true}, ::SArray{Tuple{3},Float64,1,3}, ::Tuple{Float64,Float64}, ::Vararg{Any,N} where N) at /nethome/n.kusampudi/.julia/packages/DynamicalSystemsBase/sl6dZ/src/continuous.jl:24",
      " [6] top-level scope at In[24]:3",
      " [7] include_string(::Function, ::Module, ::String, ::String) at ./loading.jl:1091",
      " [8] execute_code(::String, ::String) at /nethome/n.kusampudi/.julia/packages/IJulia/a1SNk/src/execute_request.jl:27",
      " [9] execute_request(::ZMQ.Socket, ::IJulia.Msg) at /nethome/n.kusampudi/.julia/packages/IJulia/a1SNk/src/execute_request.jl:86",
      " [10] #invokelatest#1 at ./essentials.jl:710 [inlined]",
      " [11] invokelatest at ./essentials.jl:709 [inlined]",
      " [12] eventloop(::ZMQ.Socket) at /nethome/n.kusampudi/.julia/packages/IJulia/a1SNk/src/eventloop.jl:8",
      " [13] (::IJulia.var\"#15#18\")() at ./task.jl:356"
     ]
    }
   ],
   "source": [
    "tspan = (0.0, 100.0)\n",
    "# define ODE problem\n",
    "prob = ODEProblem(gessinger, u₀, tspan, p)"
   ]
  },
  {
   "cell_type": "code",
   "execution_count": null,
   "metadata": {},
   "outputs": [],
   "source": []
  },
  {
   "cell_type": "code",
   "execution_count": null,
   "metadata": {},
   "outputs": [],
   "source": []
  },
  {
   "cell_type": "code",
   "execution_count": null,
   "metadata": {},
   "outputs": [],
   "source": []
  },
  {
   "cell_type": "markdown",
   "metadata": {},
   "source": [
    "#  B. Getting Trajectories"
   ]
  },
  {
   "cell_type": "code",
   "execution_count": 20,
   "metadata": {},
   "outputs": [
    {
     "ename": "LoadError",
     "evalue": "dt<dtmin",
     "output_type": "error",
     "traceback": [
      "dt<dtmin",
      "",
      "Stacktrace:",
      " [1] error(::String) at ./error.jl:33",
      " [2] step! at /nethome/n.kusampudi/.julia/packages/SimpleDiffEq/gorTf/src/tsit5/atsit5.jl:258 [inlined]",
      " [3] step! at /nethome/n.kusampudi/.julia/packages/SimpleDiffEq/gorTf/src/tsit5/atsit5.jl:592 [inlined]",
      " [4] step! at /nethome/n.kusampudi/.julia/packages/SimpleDiffEq/gorTf/src/tsit5/atsit5.jl:586 [inlined]",
      " [5] trajectory(::ContinuousDynamicalSystem{false,SArray{Tuple{3},Float64,1,3},3,typeof(gessinger_ODE),Array{Float64,1},DynamicalSystemsBase.var\"#12#19\"{typeof(gessinger_ODE)},SArray{Tuple{3,3},Float64,2,9},true}, ::Int64, ::SArray{Tuple{3},Float64,1,3}; dt::Float64, Ttr::Float64, diffeq::Base.Iterators.Pairs{Union{},Union{},Tuple{},NamedTuple{(),Tuple{}}}) at /nethome/n.kusampudi/.julia/packages/DynamicalSystemsBase/sl6dZ/src/continuous.jl:152",
      " [6] top-level scope at In[20]:1",
      " [7] include_string(::Function, ::Module, ::String, ::String) at ./loading.jl:1091",
      " [8] execute_code(::String, ::String) at /nethome/n.kusampudi/.julia/packages/IJulia/a1SNk/src/execute_request.jl:27",
      " [9] execute_request(::ZMQ.Socket, ::IJulia.Msg) at /nethome/n.kusampudi/.julia/packages/IJulia/a1SNk/src/execute_request.jl:86",
      " [10] #invokelatest#1 at ./essentials.jl:710 [inlined]",
      " [11] invokelatest at ./essentials.jl:709 [inlined]",
      " [12] eventloop(::ZMQ.Socket) at /nethome/n.kusampudi/.julia/packages/IJulia/a1SNk/src/eventloop.jl:8",
      " [13] (::IJulia.var\"#15#18\")() at ./task.jl:356"
     ]
    }
   ],
   "source": [
    "tr = trajectory(gessinger, 100, dt=0.5, Ttr=50.0) ## give me the trajector"
   ]
  },
  {
   "cell_type": "code",
   "execution_count": null,
   "metadata": {},
   "outputs": [],
   "source": [
    "x,y,z = columns(tr)\n",
    "\n",
    "plot(x,y,z, leg=false, title=\"lorentz attractor\",\n",
    "     html_output_format=:png, size=(500,500))"
   ]
  },
  {
   "cell_type": "code",
   "execution_count": null,
   "metadata": {},
   "outputs": [],
   "source": []
  }
 ],
 "metadata": {
  "kernelspec": {
   "display_name": "Julia 1.5.2",
   "language": "julia",
   "name": "julia-1.5"
  },
  "language_info": {
   "file_extension": ".jl",
   "mimetype": "application/julia",
   "name": "julia",
   "version": "1.5.2"
  },
  "toc": {
   "base_numbering": 1,
   "nav_menu": {},
   "number_sections": false,
   "sideBar": true,
   "skip_h1_title": false,
   "title_cell": "Table of Contents",
   "title_sidebar": "Contents",
   "toc_cell": false,
   "toc_position": {},
   "toc_section_display": true,
   "toc_window_display": false
  },
  "varInspector": {
   "cols": {
    "lenName": 16,
    "lenType": 16,
    "lenVar": 40
   },
   "kernels_config": {
    "python": {
     "delete_cmd_postfix": "",
     "delete_cmd_prefix": "del ",
     "library": "var_list.py",
     "varRefreshCmd": "print(var_dic_list())"
    },
    "r": {
     "delete_cmd_postfix": ") ",
     "delete_cmd_prefix": "rm(",
     "library": "var_list.r",
     "varRefreshCmd": "cat(var_dic_list()) "
    }
   },
   "types_to_exclude": [
    "module",
    "function",
    "builtin_function_or_method",
    "instance",
    "_Feature"
   ],
   "window_display": false
  }
 },
 "nbformat": 4,
 "nbformat_minor": 2
}
