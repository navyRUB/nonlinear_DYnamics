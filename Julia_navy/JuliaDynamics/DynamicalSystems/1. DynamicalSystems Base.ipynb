{
 "cells": [
  {
   "cell_type": "markdown",
   "metadata": {},
   "source": [
    "[original code](https://github.com/JuliaDynamics/JuliaDynamics/blob/master/tutorials/Youtube_JuliaLang_tutorial/1.%20DynamicalSystemsBase.ipynb)                     \n",
    "\n",
    "[Youtube tutorial](https://www.youtube.com/watch?v=A8g9rdEfdNg)"
   ]
  },
  {
   "cell_type": "markdown",
   "metadata": {
    "heading_collapsed": true
   },
   "source": [
    "# DynamicalSystemsBase\n",
    "\n",
    "A. Creating an instance of a dynamical systems\n",
    "\n",
    "B. Getting a trajectory out of it\n",
    "\n",
    "C. Jacobian function\n",
    "\n",
    "D. Identical handling for continuous and discrete systems"
   ]
  },
  {
   "cell_type": "markdown",
   "metadata": {},
   "source": [
    "# A. Creating an instance of a dynamical systems"
   ]
  },
  {
   "cell_type": "markdown",
   "metadata": {
    "heading_collapsed": true
   },
   "source": [
    "## What is a dynamical system ?"
   ]
  },
  {
   "cell_type": "markdown",
   "metadata": {
    "hidden": true
   },
   "source": [
    "Dynamical systems is a rule a that defines how some variable  $u$  evolves in time. The law is described by the equations of motion in function $f$.\n",
    "\n",
    "There are two types of dynamical systems:\n",
    "1. **Maps**: The time here is  descrete. The equation of motion looks like $$ u_{n+1} = f(u_{n}, p, t) $$ \n",
    "\n",
    "\n",
    "2. **ODE**: Ordinary differential equations where the time is continuous. The equation of motion looks like this \n",
    "   $$\\frac{du}{dt} = f(u_{n}, p, t)$$\n",
    "   \n",
    "   where $p$ is the parameter os the system. $u$ is the state of the system, for example $(x,y,z)$ or $(\\theta, I)$ etc."
   ]
  },
  {
   "cell_type": "markdown",
   "metadata": {
    "heading_collapsed": true
   },
   "source": [
    "## Creating a simple discrete system"
   ]
  },
  {
   "cell_type": "markdown",
   "metadata": {
    "hidden": true
   },
   "source": [
    "A `DynamicalSystem` in julia is a `struct` that has all the information of a dynamical system:\n",
    "1. Equation of motionfinction, $f$\n",
    "2. Initial state\n",
    "3. Parameter container \n",
    "4. constructor for `Dynamicalsystem`"
   ]
  },
  {
   "cell_type": "code",
   "execution_count": 4,
   "metadata": {
    "ExecuteTime": {
     "end_time": "2020-11-10T12:07:42.921000+01:00",
     "start_time": "2020-11-10T11:07:07.552Z"
    },
    "hidden": true
   },
   "outputs": [],
   "source": [
    "using DynamicalSystems, Plots"
   ]
  },
  {
   "cell_type": "markdown",
   "metadata": {
    "heading_collapsed": true,
    "hidden": true
   },
   "source": [
    "### 1. Equations of motion (eom) **[Henon map](https://en.wikipedia.org/wiki/H%C3%A9non_map)**"
   ]
  },
  {
   "cell_type": "markdown",
   "metadata": {
    "hidden": true
   },
   "source": [
    "Here we will focus on an initial example of Henon map"
   ]
  },
  {
   "cell_type": "markdown",
   "metadata": {
    "hidden": true
   },
   "source": [
    "$$x_{n+1} = 1 - a x_{n}^2 + y_{n}$$\n",
    "$$y_{n+1} = b x_{n}$$"
   ]
  },
  {
   "cell_type": "markdown",
   "metadata": {
    "hidden": true
   },
   "source": [
    "we can define this equations into Julia function. We have two options in Julia to define a function, **oop**(out of place) or **iip**(inplace)"
   ]
  },
  {
   "cell_type": "code",
   "execution_count": 5,
   "metadata": {
    "ExecuteTime": {
     "end_time": "2020-11-10T12:07:44.590000+01:00",
     "start_time": "2020-11-10T11:07:20.412Z"
    },
    "hidden": true
   },
   "outputs": [
    {
     "data": {
      "text/plain": [
       "henon_eom (generic function with 1 method)"
      ]
     },
     "execution_count": 5,
     "metadata": {},
     "output_type": "execute_result"
    }
   ],
   "source": [
    "henon_eom(x, p, t) = SVector{2}(1.0-p[1]*x[1]^2 + x[2], p[2]*x[1])       # out of place method"
   ]
  },
  {
   "cell_type": "markdown",
   "metadata": {
    "hidden": true
   },
   "source": [
    "remember that `p` and `t` *must* be included in the equations of the motion, irrespective of weather they are used or not"
   ]
  },
  {
   "cell_type": "markdown",
   "metadata": {
    "heading_collapsed": true,
    "hidden": true
   },
   "source": [
    "### 2. Inital state"
   ]
  },
  {
   "cell_type": "markdown",
   "metadata": {
    "hidden": true
   },
   "source": [
    "The second argument for the DiscreteDynamicalSystem constructor is a state, which represents the initial condition for the system:"
   ]
  },
  {
   "cell_type": "code",
   "execution_count": 6,
   "metadata": {
    "ExecuteTime": {
     "end_time": "2020-11-10T12:08:12.751000+01:00",
     "start_time": "2020-11-10T11:08:10.684Z"
    },
    "hidden": true
   },
   "outputs": [
    {
     "data": {
      "text/plain": [
       "2-element Array{Float64,1}:\n",
       " 0.0\n",
       " 0.0"
      ]
     },
     "execution_count": 6,
     "metadata": {},
     "output_type": "execute_result"
    }
   ],
   "source": [
    "state = zeros(2)"
   ]
  },
  {
   "cell_type": "markdown",
   "metadata": {
    "heading_collapsed": true,
    "hidden": true
   },
   "source": [
    "### 3. Parameters of the EOM"
   ]
  },
  {
   "cell_type": "markdown",
   "metadata": {
    "hidden": true
   },
   "source": [
    " p, is simply a parameter container. It is best to use a mutable container that can be accessed with brackets (getindex)."
   ]
  },
  {
   "cell_type": "code",
   "execution_count": 7,
   "metadata": {
    "ExecuteTime": {
     "end_time": "2020-11-10T12:08:19.819000+01:00",
     "start_time": "2020-11-10T11:08:19.451Z"
    },
    "hidden": true
   },
   "outputs": [
    {
     "data": {
      "text/plain": [
       "2-element Array{Float64,1}:\n",
       " 1.4\n",
       " 0.3"
      ]
     },
     "execution_count": 7,
     "metadata": {},
     "output_type": "execute_result"
    }
   ],
   "source": [
    "p = [1.4, 0.3]"
   ]
  },
  {
   "cell_type": "markdown",
   "metadata": {
    "heading_collapsed": true,
    "hidden": true
   },
   "source": [
    "### 4. constructor for `DynamicalSystem`"
   ]
  },
  {
   "cell_type": "markdown",
   "metadata": {
    "hidden": true
   },
   "source": [
    "now these three arguments are enough to create a constructor for  `Dynamicalsystem`"
   ]
  },
  {
   "cell_type": "code",
   "execution_count": 8,
   "metadata": {
    "ExecuteTime": {
     "end_time": "2020-11-10T12:09:08.339000+01:00",
     "start_time": "2020-11-10T11:09:05.997Z"
    },
    "hidden": true
   },
   "outputs": [
    {
     "data": {
      "text/plain": [
       "2-dimensional discrete dynamical system\n",
       " state:       [0.0, 0.0]\n",
       " e.o.m.:      henon_eom\n",
       " in-place?    false\n",
       " jacobian:    ForwardDiff\n",
       " parameters:  [1.4, 0.3]"
      ]
     },
     "execution_count": 8,
     "metadata": {},
     "output_type": "execute_result"
    }
   ],
   "source": [
    "henon = DiscreteDynamicalSystem(henon_eom, state, p)"
   ]
  },
  {
   "cell_type": "markdown",
   "metadata": {
    "heading_collapsed": true
   },
   "source": [
    "# B. Getting a trajectory "
   ]
  },
  {
   "cell_type": "markdown",
   "metadata": {
    "hidden": true
   },
   "source": [
    "Now that we have created the system, the first (and most basic) thing to do is to simply plot its time evolution and see what it looks like. the `trajectory` function is a tool that evolves the system and returns the output at ***equally spaced*** time intervals"
   ]
  },
  {
   "cell_type": "code",
   "execution_count": 9,
   "metadata": {
    "ExecuteTime": {
     "end_time": "2020-11-10T12:10:11.364000+01:00",
     "start_time": "2020-11-10T11:10:09.453Z"
    },
    "hidden": true,
    "scrolled": true
   },
   "outputs": [
    {
     "data": {
      "text/plain": [
       "2-dimensional Dataset{Float64} with 100001 points\n",
       "  0.0        0.0\n",
       "  1.0        0.0\n",
       " -0.4        0.3\n",
       "  1.076     -0.12\n",
       " -0.740886   0.3228\n",
       "  0.554322  -0.222266\n",
       "  0.347552   0.166297\n",
       "  0.997188   0.104265\n",
       " -0.287871   0.299156\n",
       "  1.18314   -0.0863614\n",
       " -1.0461     0.354942\n",
       " -0.177128  -0.313831\n",
       "  0.642244  -0.0531385\n",
       "  ⋮         \n",
       "  0.582553   0.103\n",
       "  0.627885   0.174766\n",
       "  0.622831   0.188365\n",
       "  0.64528    0.186849\n",
       "  0.603908   0.193584\n",
       "  0.682997   0.181173\n",
       "  0.528095   0.204899\n",
       "  0.814462   0.158428\n",
       "  0.229742   0.244338\n",
       "  1.17044    0.0689225\n",
       " -0.848995   0.351133\n",
       "  0.342024  -0.254698"
      ]
     },
     "execution_count": 9,
     "metadata": {},
     "output_type": "execute_result"
    }
   ],
   "source": [
    "# trajectory from inital condition\n",
    "tr = trajectory(henon, 100000) # give me the trajectory of henonmap, by evolving it for 100000 times "
   ]
  },
  {
   "cell_type": "markdown",
   "metadata": {
    "hidden": true
   },
   "source": [
    "`trajectory` returns a dataset which is a wrapper of `vector{SVector} that can be accessed like a matrix. "
   ]
  },
  {
   "cell_type": "markdown",
   "metadata": {
    "hidden": true
   },
   "source": [
    "we can also start from a different point also"
   ]
  },
  {
   "cell_type": "code",
   "execution_count": 10,
   "metadata": {
    "ExecuteTime": {
     "end_time": "2020-11-10T12:10:22.856000+01:00",
     "start_time": "2020-11-10T11:10:22.348Z"
    },
    "hidden": true
   },
   "outputs": [
    {
     "data": {
      "text/plain": [
       "2-element Array{Float64,1}:\n",
       " 0.0044135750220182365\n",
       " 0.008379143949571082"
      ]
     },
     "execution_count": 10,
     "metadata": {},
     "output_type": "execute_result"
    }
   ],
   "source": [
    "inital_condition2 = 0.01*rand(2)"
   ]
  },
  {
   "cell_type": "code",
   "execution_count": 11,
   "metadata": {
    "ExecuteTime": {
     "end_time": "2020-11-10T12:10:23.720000+01:00",
     "start_time": "2020-11-10T11:10:23.228Z"
    },
    "hidden": true,
    "scrolled": true
   },
   "outputs": [
    {
     "data": {
      "text/plain": [
       "2-dimensional Dataset{Float64} with 100001 points\n",
       "  0.00441358   0.00837914\n",
       "  1.00835      0.00132407\n",
       " -0.422159     0.302506\n",
       "  1.053       -0.126648\n",
       " -0.678981     0.3159\n",
       "  0.670479    -0.203694\n",
       "  0.166947     0.201144\n",
       "  1.16212      0.0500842\n",
       " -0.84066      0.348637\n",
       "  0.359244    -0.252198\n",
       "  0.567123     0.107773\n",
       "  0.657493     0.170137\n",
       "  0.564921     0.197248\n",
       "  ⋮           \n",
       "  0.490253     0.164297\n",
       "  0.827809     0.147076\n",
       "  0.1877       0.248343\n",
       "  1.19902      0.05631\n",
       " -0.956395     0.359706\n",
       "  0.079138    -0.286918\n",
       "  0.704314     0.0237414\n",
       "  0.329261     0.211294\n",
       "  1.05952      0.0987782\n",
       " -0.472827     0.317855\n",
       "  1.00486     -0.141848\n",
       " -0.5555       0.301459"
      ]
     },
     "execution_count": 11,
     "metadata": {},
     "output_type": "execute_result"
    }
   ],
   "source": [
    "tr2 = trajectory(henon, 100000, inital_condition2)"
   ]
  },
  {
   "cell_type": "raw",
   "metadata": {
    "hidden": true
   },
   "source": [
    "plotrange = 1000:100000\n",
    "scatter(tr[plotrange,1], tr[plotrange,2],\n",
    "        markersize=0.1, markeralpha=0.3, markercolor=\"black\")"
   ]
  },
  {
   "attachments": {
    "image.png": {
     "image/png": "[encoded data removed]"
    }
   },
   "cell_type": "markdown",
   "metadata": {
    "hidden": true
   },
   "source": [
    "![image.png](attachment:image.png)"
   ]
  },
  {
   "cell_type": "markdown",
   "metadata": {},
   "source": [
    "# C. Jacobian Function"
   ]
  },
  {
   "cell_type": "markdown",
   "metadata": {
    "heading_collapsed": true
   },
   "source": [
    "## What is Jacobian of a function ?"
   ]
  },
  {
   "attachments": {
    "image.png": {
     "image/png": "[encoded data removed]"
    }
   },
   "cell_type": "markdown",
   "metadata": {
    "hidden": true
   },
   "source": [
    "![image.png](attachment:image.png)"
   ]
  },
  {
   "attachments": {
    "image.png": {
     "image/png": "[encoded data removed]"
    }
   },
   "cell_type": "markdown",
   "metadata": {
    "hidden": true
   },
   "source": [
    "![image.png](attachment:image.png)"
   ]
  },
  {
   "cell_type": "markdown",
   "metadata": {
    "heading_collapsed": true
   },
   "source": [
    "## Defining the Jacobian of a function (user argument)"
   ]
  },
  {
   "cell_type": "code",
   "execution_count": 12,
   "metadata": {
    "ExecuteTime": {
     "end_time": "2020-11-10T12:10:47.533000+01:00",
     "start_time": "2020-11-10T11:10:47.166Z"
    },
    "hidden": true
   },
   "outputs": [
    {
     "data": {
      "text/plain": [
       "2-dimensional discrete dynamical system\n",
       " state:       [0.0, 0.0]\n",
       " e.o.m.:      henon_eom\n",
       " in-place?    false\n",
       " jacobian:    ForwardDiff\n",
       " parameters:  [1.4, 0.3]"
      ]
     },
     "execution_count": 12,
     "metadata": {},
     "output_type": "execute_result"
    }
   ],
   "source": [
    "henon"
   ]
  },
  {
   "cell_type": "markdown",
   "metadata": {
    "hidden": true
   },
   "source": [
    "yu can see that the `jacobian` funciton of the equation of motion was computed automatically using the module `ForwardDiff`. you can also give a hard-coded jacobian as input to the `DiscreteDynamocalSystem`. Even though the automatic computation is very efficient, the best possible performance will come if you pass a \"hard-coded\" jacobian:"
   ]
  },
  {
   "cell_type": "code",
   "execution_count": 13,
   "metadata": {
    "ExecuteTime": {
     "end_time": "2020-11-10T12:10:54.815000+01:00",
     "start_time": "2020-11-10T11:10:53.838Z"
    },
    "hidden": true
   },
   "outputs": [
    {
     "data": {
      "text/plain": [
       "h_jacobain (generic function with 1 method)"
      ]
     },
     "execution_count": 13,
     "metadata": {},
     "output_type": "execute_result"
    }
   ],
   "source": [
    "h_jacobain(x,p,t) = @SMatrix[-2*p[1]*x[1] 1.0; p[2] 0.0]"
   ]
  },
  {
   "cell_type": "code",
   "execution_count": 14,
   "metadata": {
    "ExecuteTime": {
     "end_time": "2020-11-10T12:10:59.702000+01:00",
     "start_time": "2020-11-10T11:10:58.845Z"
    },
    "hidden": true
   },
   "outputs": [
    {
     "data": {
      "text/plain": [
       "2-dimensional discrete dynamical system\n",
       " state:       [0.0, 0.0]\n",
       " e.o.m.:      henon_eom\n",
       " in-place?    false\n",
       " jacobian:    h_jacobain\n",
       " parameters:  [1.4, 0.3]"
      ]
     },
     "execution_count": 14,
     "metadata": {},
     "output_type": "execute_result"
    }
   ],
   "source": [
    "henon_with_jac = DiscreteDynamicalSystem(henon_eom, state, p, h_jacobain)"
   ]
  },
  {
   "cell_type": "markdown",
   "metadata": {
    "hidden": true
   },
   "source": [
    "Even though `ForwardDiff` is truly performant, the hard-coded version should \"always\" be faster.\n",
    "This becomes much more important for higher dimensional systems, especially for the in-place form!"
   ]
  },
  {
   "cell_type": "markdown",
   "metadata": {},
   "source": [
    "# D. Identical Handling for Continuous and Discrete systems"
   ]
  },
  {
   "cell_type": "markdown",
   "metadata": {},
   "source": [
    "Discrete systems aer evolved using internal algorithems. However , all time evolution of continuous systems is done through `DifferentialEquations.jl` library. \n",
    "\n",
    "See `DynamicalSystemsBase.CDS_KWAGS` for th default options used to solve continuous systems."
   ]
  },
  {
   "cell_type": "code",
   "execution_count": 16,
   "metadata": {
    "ExecuteTime": {
     "end_time": "2020-11-10T12:11:43.081000+01:00",
     "start_time": "2020-11-10T11:11:42.127Z"
    }
   },
   "outputs": [
    {
     "data": {
      "text/plain": [
       "(alg = SimpleDiffEq.SimpleATsit5(), abstol = 1.0e-6, reltol = 1.0e-6)"
      ]
     },
     "execution_count": 16,
     "metadata": {},
     "output_type": "execute_result"
    }
   ],
   "source": [
    "DynamicalSystemsBase.CDS_KWARGS"
   ]
  },
  {
   "cell_type": "markdown",
   "metadata": {},
   "source": [
    "* The process of creating a continuous system is identical to that of a discrete system, except that the constructor `ContinuousDynamicalSystem` is used instead\n",
    "\n",
    "* In this case the function `eom` returns the time derivatives and not \"next state\"\n",
    "\n",
    "* We will take teh oppertunity to show the process of using in-place equations of motion for a contunuous system, which is aimed at large systems. "
   ]
  },
  {
   "cell_type": "markdown",
   "metadata": {},
   "source": [
    "As an example we will use the continuous dynamical system [Hénon–Heiles system](https://en.wikipedia.org/wiki/H%C3%A9non%E2%80%93Heiles_system)"
   ]
  },
  {
   "attachments": {
    "image.png": {
     "image/png": "[encoded data removed]"
    }
   },
   "cell_type": "markdown",
   "metadata": {},
   "source": [
    "![image.png](attachment:image.png)"
   ]
  },
  {
   "cell_type": "markdown",
   "metadata": {},
   "source": [
    "we will define function for in-place equations of motion "
   ]
  },
  {
   "cell_type": "code",
   "execution_count": 17,
   "metadata": {
    "ExecuteTime": {
     "end_time": "2020-11-10T12:11:50.677000+01:00",
     "start_time": "2020-11-10T11:11:50.190Z"
    },
    "code_folding": []
   },
   "outputs": [
    {
     "data": {
      "text/plain": [
       "hheom! (generic function with 1 method)"
      ]
     },
     "execution_count": 17,
     "metadata": {},
     "output_type": "execute_result"
    }
   ],
   "source": [
    "# in-place form of equations of motion\n",
    "# du is the derivatives vector, u is the state vector\n",
    "function hheom!(du, u, p, t)\n",
    "    du[1] = u[3]\n",
    "    du[2] = u[4]\n",
    "    du[3] = -u[1] -2*u[1]*u[2]\n",
    "    du[4] = -u[2] -(u[1]^2 - u[2]^2)\n",
    "    return nothing\n",
    "end"
   ]
  },
  {
   "cell_type": "code",
   "execution_count": 18,
   "metadata": {
    "ExecuteTime": {
     "end_time": "2020-11-10T12:11:52.243000+01:00",
     "start_time": "2020-11-10T11:11:51.830Z"
    }
   },
   "outputs": [
    {
     "data": {
      "text/plain": [
       "4-element Array{Float64,1}:\n",
       "  0.0\n",
       " -0.25\n",
       "  0.42081\n",
       "  0.0"
      ]
     },
     "execution_count": 18,
     "metadata": {},
     "output_type": "execute_result"
    }
   ],
   "source": [
    "inital_state = [0, -0.25, 0.42081, 0]"
   ]
  },
  {
   "cell_type": "code",
   "execution_count": 19,
   "metadata": {
    "ExecuteTime": {
     "end_time": "2020-11-10T12:11:54.551000+01:00",
     "start_time": "2020-11-10T11:11:52.830Z"
    }
   },
   "outputs": [
    {
     "data": {
      "text/plain": [
       "4-dimensional continuous dynamical system\n",
       " state:       [0.0, -0.25, 0.42081, 0.0]\n",
       " e.o.m.:      hheom!\n",
       " in-place?    true\n",
       " jacobian:    ForwardDiff\n",
       " parameters:  nothing"
      ]
     },
     "execution_count": 19,
     "metadata": {},
     "output_type": "execute_result"
    }
   ],
   "source": [
    "# pass `nothing` as the parameters, because the Hénon–Heiles system doesn't have any\n",
    "hhenon_heiles = ContinuousDynamicalSystem(hheom!,inital_state,nothing )"
   ]
  },
  {
   "cell_type": "markdown",
   "metadata": {},
   "source": [
    "now we can get a trajectory of this system, by solving using DifferentialEquations.jl"
   ]
  },
  {
   "cell_type": "code",
   "execution_count": 20,
   "metadata": {
    "ExecuteTime": {
     "end_time": "2020-11-10T12:11:58.988000+01:00",
     "start_time": "2020-11-10T11:11:57.022Z"
    },
    "scrolled": true
   },
   "outputs": [
    {
     "data": {
      "text/plain": [
       "4-dimensional Dataset{Float64} with 2001 points\n",
       "  0.0        -0.25      0.42081   0.0\n",
       "  0.0210361  -0.24961   0.420547  0.0156079\n",
       "  0.0420459  -0.248441  0.419755  0.0311131\n",
       "  0.0630027  -0.246502  0.418429  0.0464137\n",
       "  0.0838797  -0.243805  0.416557  0.0614095\n",
       "  0.104649   -0.240367  0.414125  0.0760025\n",
       "  0.125283   -0.236213  0.411116  0.0900977\n",
       "  0.145751   -0.231368  0.407508  0.103604\n",
       "  0.166023   -0.225864  0.403277  0.116435\n",
       "  0.186068   -0.219737  0.398396  0.128509\n",
       "  0.205851   -0.213026  0.392838  0.139751\n",
       "  0.22534    -0.205777  0.386572  0.150091\n",
       "  0.244496   -0.198033  0.379568  0.159466\n",
       "  ⋮                               \n",
       " -0.116577   -0.263     0.370759  0.157468\n",
       " -0.0979725  -0.254732  0.373344  0.17319\n",
       " -0.0792484  -0.245689  0.375555  0.188442\n",
       " -0.0604236  -0.235897  0.377364  0.20314\n",
       " -0.0415192  -0.225386  0.378735  0.217205\n",
       " -0.0225581  -0.214188  0.379631  0.230562\n",
       " -0.0035648  -0.202342  0.38001   0.243138\n",
       "  0.0154336  -0.189889  0.379828  0.254868\n",
       "  0.0344079  -0.176871  0.379037  0.265689\n",
       "  0.0533263  -0.163336  0.377587  0.275547\n",
       "  0.0721547  -0.149333  0.375429  0.284391\n",
       "  0.0908565  -0.134914  0.37251   0.292176"
      ]
     },
     "execution_count": 20,
     "metadata": {},
     "output_type": "execute_result"
    }
   ],
   "source": [
    "tr = trajectory(hhenon_heiles, 100.0, dt = 0.05)"
   ]
  },
  {
   "cell_type": "code",
   "execution_count": 21,
   "metadata": {
    "ExecuteTime": {
     "end_time": "2020-11-10T12:12:13.726000+01:00",
     "start_time": "2020-11-10T11:12:00.031Z"
    }
   },
   "outputs": [
    {
     "data": {
      "image/svg+xml": [
       "<?xml version=\"1.0\" encoding=\"utf-8\"?>\n",
       "<svg xmlns=\"http://www.w3.org/2000/svg\" xmlns:xlink=\"http://www.w3.org/1999/xlink\" width=\"600\" height=\"400\" viewBox=\"0 0 2400 1600\">\n",
       "<defs>\n",
       "  <clipPath id=\"clip250\">\n",
       "    <rect x=\"0\" y=\"0\" width=\"2400\" height=\"1600\"/>\n",
       "  </clipPath>\n",
       "</defs>\n",
       "<path clip-path=\"url(#clip250)\" d=\"\n",
       "M0 1600 L2400 1600 L2400 0 L0 0  Z\n",
       "  \" fill=\"#ffffff\" fill-rule=\"evenodd\" fill-opacity=\"1\"/>\n",
       "<defs>\n",
       "  <clipPath id=\"clip251\">\n",
       "    <rect x=\"480\" y=\"0\" width=\"1681\" height=\"1600\"/>\n",
       "  </clipPath>\n",
       "</defs>\n",
       "<path clip-path=\"url(#clip250)\" d=\"\n",
       "M205.07 1486.45 L2352.76 1486.45 L2352.76 47.2441 L205.07 47.2441  Z\n",
       "  \" fill=\"#ffffff\" fill-rule=\"evenodd\" fill-opacity=\"1\"/>\n",
       "<defs>\n",
       "  <clipPath id=\"clip252\">\n",
       "    <rect x=\"205\" y=\"47\" width=\"2149\" height=\"1440\"/>\n",
       "  </clipPath>\n",
       "</defs>\n",
       "<polyline clip-path=\"url(#clip252)\" style=\"stroke:#000000; stroke-width:2; stroke-opacity:0.1; fill:none\" points=\"\n",
       "  548.746,1486.45 548.746,47.2441 \n",
       "  \"/>\n",
       "<polyline clip-path=\"url(#clip252)\" style=\"stroke:#000000; stroke-width:2; stroke-opacity:0.1; fill:none\" points=\"\n",
       "  913.018,1486.45 913.018,47.2441 \n",
       "  \"/>\n",
       "<polyline clip-path=\"url(#clip252)\" style=\"stroke:#000000; stroke-width:2; stroke-opacity:0.1; fill:none\" points=\"\n",
       "  1277.29,1486.45 1277.29,47.2441 \n",
       "  \"/>\n",
       "<polyline clip-path=\"url(#clip252)\" style=\"stroke:#000000; stroke-width:2; stroke-opacity:0.1; fill:none\" points=\"\n",
       "  1641.56,1486.45 1641.56,47.2441 \n",
       "  \"/>\n",
       "<polyline clip-path=\"url(#clip252)\" style=\"stroke:#000000; stroke-width:2; stroke-opacity:0.1; fill:none\" points=\"\n",
       "  2005.83,1486.45 2005.83,47.2441 \n",
       "  \"/>\n",
       "<polyline clip-path=\"url(#clip250)\" style=\"stroke:#000000; stroke-width:4; stroke-opacity:1; fill:none\" points=\"\n",
       "  205.07,1486.45 2352.76,1486.45 \n",
       "  \"/>\n",
       "<polyline clip-path=\"url(#clip250)\" style=\"stroke:#000000; stroke-width:4; stroke-opacity:1; fill:none\" points=\"\n",
       "  548.746,1486.45 548.746,1469.18 \n",
       "  \"/>\n",
       "<polyline clip-path=\"url(#clip250)\" style=\"stroke:#000000; stroke-width:4; stroke-opacity:1; fill:none\" points=\"\n",
       "  913.018,1486.45 913.018,1469.18 \n",
       "  \"/>\n",
       "<polyline clip-path=\"url(#clip250)\" style=\"stroke:#000000; stroke-width:4; stroke-opacity:1; fill:none\" points=\"\n",
       "  1277.29,1486.45 1277.29,1469.18 \n",
       "  \"/>\n",
       "<polyline clip-path=\"url(#clip250)\" style=\"stroke:#000000; stroke-width:4; stroke-opacity:1; fill:none\" points=\"\n",
       "  1641.56,1486.45 1641.56,1469.18 \n",
       "  \"/>\n",
       "<polyline clip-path=\"url(#clip250)\" style=\"stroke:#000000; stroke-width:4; stroke-opacity:1; fill:none\" points=\"\n",
       "  2005.83,1486.45 2005.83,1469.18 \n",
       "  \"/>\n",
       "<path clip-path=\"url(#clip250)\" d=\"M 0 0 M501.675 1530.29 L531.35 1530.29 L531.35 1534.23 L501.675 1534.23 L501.675 1530.29 Z\" fill=\"#000000\" fill-rule=\"evenodd\" fill-opacity=\"1\" /><path clip-path=\"url(#clip250)\" d=\"M 0 0 M546.42 1515.64 Q542.809 1515.64 540.98 1519.2 Q539.174 1522.75 539.174 1529.87 Q539.174 1536.98 540.98 1540.55 Q542.809 1544.09 546.42 1544.09 Q550.054 1544.09 551.859 1540.55 Q553.688 1536.98 553.688 1529.87 Q553.688 1522.75 551.859 1519.2 Q550.054 1515.64 546.42 1515.64 M546.42 1511.93 Q552.23 1511.93 555.285 1516.54 Q558.364 1521.12 558.364 1529.87 Q558.364 1538.6 555.285 1543.21 Q552.23 1547.79 546.42 1547.79 Q540.61 1547.79 537.531 1543.21 Q534.475 1538.6 534.475 1529.87 Q534.475 1521.12 537.531 1516.54 Q540.61 1511.93 546.42 1511.93 Z\" fill=\"#000000\" fill-rule=\"evenodd\" fill-opacity=\"1\" /><path clip-path=\"url(#clip250)\" d=\"M 0 0 M563.434 1541.24 L568.318 1541.24 L568.318 1547.12 L563.434 1547.12 L563.434 1541.24 Z\" fill=\"#000000\" fill-rule=\"evenodd\" fill-opacity=\"1\" /><path clip-path=\"url(#clip250)\" d=\"M 0 0 M586.234 1516.63 L574.429 1535.08 L586.234 1535.08 L586.234 1516.63 M585.007 1512.56 L590.887 1512.56 L590.887 1535.08 L595.818 1535.08 L595.818 1538.97 L590.887 1538.97 L590.887 1547.12 L586.234 1547.12 L586.234 1538.97 L570.633 1538.97 L570.633 1534.46 L585.007 1512.56 Z\" fill=\"#000000\" fill-rule=\"evenodd\" fill-opacity=\"1\" /><path clip-path=\"url(#clip250)\" d=\"M 0 0 M866.988 1530.29 L896.664 1530.29 L896.664 1534.23 L866.988 1534.23 L866.988 1530.29 Z\" fill=\"#000000\" fill-rule=\"evenodd\" fill-opacity=\"1\" /><path clip-path=\"url(#clip250)\" d=\"M 0 0 M911.733 1515.64 Q908.122 1515.64 906.293 1519.2 Q904.488 1522.75 904.488 1529.87 Q904.488 1536.98 906.293 1540.55 Q908.122 1544.09 911.733 1544.09 Q915.367 1544.09 917.173 1540.55 Q919.002 1536.98 919.002 1529.87 Q919.002 1522.75 917.173 1519.2 Q915.367 1515.64 911.733 1515.64 M911.733 1511.93 Q917.543 1511.93 920.599 1516.54 Q923.678 1521.12 923.678 1529.87 Q923.678 1538.6 920.599 1543.21 Q917.543 1547.79 911.733 1547.79 Q905.923 1547.79 902.844 1543.21 Q899.789 1538.6 899.789 1529.87 Q899.789 1521.12 902.844 1516.54 Q905.923 1511.93 911.733 1511.93 Z\" fill=\"#000000\" fill-rule=\"evenodd\" fill-opacity=\"1\" /><path clip-path=\"url(#clip250)\" d=\"M 0 0 M928.747 1541.24 L933.631 1541.24 L933.631 1547.12 L928.747 1547.12 L928.747 1541.24 Z\" fill=\"#000000\" fill-rule=\"evenodd\" fill-opacity=\"1\" /><path clip-path=\"url(#clip250)\" d=\"M 0 0 M942.728 1543.18 L959.048 1543.18 L959.048 1547.12 L937.103 1547.12 L937.103 1543.18 Q939.765 1540.43 944.349 1535.8 Q948.955 1531.15 950.136 1529.81 Q952.381 1527.28 953.261 1525.55 Q954.164 1523.79 954.164 1522.1 Q954.164 1519.34 952.219 1517.61 Q950.298 1515.87 947.196 1515.87 Q944.997 1515.87 942.543 1516.63 Q940.113 1517.4 937.335 1518.95 L937.335 1514.23 Q940.159 1513.09 942.613 1512.51 Q945.066 1511.93 947.103 1511.93 Q952.474 1511.93 955.668 1514.62 Q958.863 1517.31 958.863 1521.8 Q958.863 1523.93 958.052 1525.85 Q957.265 1527.74 955.159 1530.34 Q954.58 1531.01 951.478 1534.23 Q948.377 1537.42 942.728 1543.18 Z\" fill=\"#000000\" fill-rule=\"evenodd\" fill-opacity=\"1\" /><path clip-path=\"url(#clip250)\" d=\"M 0 0 M1258.81 1515.64 Q1255.2 1515.64 1253.37 1519.2 Q1251.56 1522.75 1251.56 1529.87 Q1251.56 1536.98 1253.37 1540.55 Q1255.2 1544.09 1258.81 1544.09 Q1262.44 1544.09 1264.25 1540.55 Q1266.07 1536.98 1266.07 1529.87 Q1266.07 1522.75 1264.25 1519.2 Q1262.44 1515.64 1258.81 1515.64 M1258.81 1511.93 Q1264.62 1511.93 1267.67 1516.54 Q1270.75 1521.12 1270.75 1529.87 Q1270.75 1538.6 1267.67 1543.21 Q1264.62 1547.79 1258.81 1547.79 Q1253 1547.79 1249.92 1543.21 Q1246.86 1538.6 1246.86 1529.87 Q1246.86 1521.12 1249.92 1516.54 Q1253 1511.93 1258.81 1511.93 Z\" fill=\"#000000\" fill-rule=\"evenodd\" fill-opacity=\"1\" /><path clip-path=\"url(#clip250)\" d=\"M 0 0 M1275.82 1541.24 L1280.7 1541.24 L1280.7 1547.12 L1275.82 1547.12 L1275.82 1541.24 Z\" fill=\"#000000\" fill-rule=\"evenodd\" fill-opacity=\"1\" /><path clip-path=\"url(#clip250)\" d=\"M 0 0 M1295.77 1515.64 Q1292.16 1515.64 1290.33 1519.2 Q1288.53 1522.75 1288.53 1529.87 Q1288.53 1536.98 1290.33 1540.55 Q1292.16 1544.09 1295.77 1544.09 Q1299.41 1544.09 1301.21 1540.55 Q1303.04 1536.98 1303.04 1529.87 Q1303.04 1522.75 1301.21 1519.2 Q1299.41 1515.64 1295.77 1515.64 M1295.77 1511.93 Q1301.58 1511.93 1304.64 1516.54 Q1307.72 1521.12 1307.72 1529.87 Q1307.72 1538.6 1304.64 1543.21 Q1301.58 1547.79 1295.77 1547.79 Q1289.96 1547.79 1286.88 1543.21 Q1283.83 1538.6 1283.83 1529.87 Q1283.83 1521.12 1286.88 1516.54 Q1289.96 1511.93 1295.77 1511.93 Z\" fill=\"#000000\" fill-rule=\"evenodd\" fill-opacity=\"1\" /><path clip-path=\"url(#clip250)\" d=\"M 0 0 M1623.88 1515.64 Q1620.27 1515.64 1618.44 1519.2 Q1616.63 1522.75 1616.63 1529.87 Q1616.63 1536.98 1618.44 1540.55 Q1620.27 1544.09 1623.88 1544.09 Q1627.51 1544.09 1629.32 1540.55 Q1631.15 1536.98 1631.15 1529.87 Q1631.15 1522.75 1629.32 1519.2 Q1627.51 1515.64 1623.88 1515.64 M1623.88 1511.93 Q1629.69 1511.93 1632.74 1516.54 Q1635.82 1521.12 1635.82 1529.87 Q1635.82 1538.6 1632.74 1543.21 Q1629.69 1547.79 1623.88 1547.79 Q1618.07 1547.79 1614.99 1543.21 Q1611.93 1538.6 1611.93 1529.87 Q1611.93 1521.12 1614.99 1516.54 Q1618.07 1511.93 1623.88 1511.93 Z\" fill=\"#000000\" fill-rule=\"evenodd\" fill-opacity=\"1\" /><path clip-path=\"url(#clip250)\" d=\"M 0 0 M1640.89 1541.24 L1645.77 1541.24 L1645.77 1547.12 L1640.89 1547.12 L1640.89 1541.24 Z\" fill=\"#000000\" fill-rule=\"evenodd\" fill-opacity=\"1\" /><path clip-path=\"url(#clip250)\" d=\"M 0 0 M1654.87 1543.18 L1671.19 1543.18 L1671.19 1547.12 L1649.25 1547.12 L1649.25 1543.18 Q1651.91 1540.43 1656.49 1535.8 Q1661.1 1531.15 1662.28 1529.81 Q1664.52 1527.28 1665.4 1525.55 Q1666.31 1523.79 1666.31 1522.1 Q1666.31 1519.34 1664.36 1517.61 Q1662.44 1515.87 1659.34 1515.87 Q1657.14 1515.87 1654.69 1516.63 Q1652.26 1517.4 1649.48 1518.95 L1649.48 1514.23 Q1652.3 1513.09 1654.76 1512.51 Q1657.21 1511.93 1659.25 1511.93 Q1664.62 1511.93 1667.81 1514.62 Q1671.01 1517.31 1671.01 1521.8 Q1671.01 1523.93 1670.2 1525.85 Q1669.41 1527.74 1667.3 1530.34 Q1666.72 1531.01 1663.62 1534.23 Q1660.52 1537.42 1654.87 1543.18 Z\" fill=\"#000000\" fill-rule=\"evenodd\" fill-opacity=\"1\" /><path clip-path=\"url(#clip250)\" d=\"M 0 0 M1987.11 1515.64 Q1983.5 1515.64 1981.67 1519.2 Q1979.86 1522.75 1979.86 1529.87 Q1979.86 1536.98 1981.67 1540.55 Q1983.5 1544.09 1987.11 1544.09 Q1990.74 1544.09 1992.55 1540.55 Q1994.38 1536.98 1994.38 1529.87 Q1994.38 1522.75 1992.55 1519.2 Q1990.74 1515.64 1987.11 1515.64 M1987.11 1511.93 Q1992.92 1511.93 1995.97 1516.54 Q1999.05 1521.12 1999.05 1529.87 Q1999.05 1538.6 1995.97 1543.21 Q1992.92 1547.79 1987.11 1547.79 Q1981.3 1547.79 1978.22 1543.21 Q1975.16 1538.6 1975.16 1529.87 Q1975.16 1521.12 1978.22 1516.54 Q1981.3 1511.93 1987.11 1511.93 Z\" fill=\"#000000\" fill-rule=\"evenodd\" fill-opacity=\"1\" /><path clip-path=\"url(#clip250)\" d=\"M 0 0 M2004.12 1541.24 L2009 1541.24 L2009 1547.12 L2004.12 1547.12 L2004.12 1541.24 Z\" fill=\"#000000\" fill-rule=\"evenodd\" fill-opacity=\"1\" /><path clip-path=\"url(#clip250)\" d=\"M 0 0 M2026.92 1516.63 L2015.12 1535.08 L2026.92 1535.08 L2026.92 1516.63 M2025.69 1512.56 L2031.57 1512.56 L2031.57 1535.08 L2036.5 1535.08 L2036.5 1538.97 L2031.57 1538.97 L2031.57 1547.12 L2026.92 1547.12 L2026.92 1538.97 L2011.32 1538.97 L2011.32 1534.46 L2025.69 1512.56 Z\" fill=\"#000000\" fill-rule=\"evenodd\" fill-opacity=\"1\" /><polyline clip-path=\"url(#clip252)\" style=\"stroke:#000000; stroke-width:2; stroke-opacity:0.1; fill:none\" points=\"\n",
       "  205.07,1213.08 2352.76,1213.08 \n",
       "  \"/>\n",
       "<polyline clip-path=\"url(#clip252)\" style=\"stroke:#000000; stroke-width:2; stroke-opacity:0.1; fill:none\" points=\"\n",
       "  205.07,885.608 2352.76,885.608 \n",
       "  \"/>\n",
       "<polyline clip-path=\"url(#clip252)\" style=\"stroke:#000000; stroke-width:2; stroke-opacity:0.1; fill:none\" points=\"\n",
       "  205.07,558.14 2352.76,558.14 \n",
       "  \"/>\n",
       "<polyline clip-path=\"url(#clip252)\" style=\"stroke:#000000; stroke-width:2; stroke-opacity:0.1; fill:none\" points=\"\n",
       "  205.07,230.672 2352.76,230.672 \n",
       "  \"/>\n",
       "<polyline clip-path=\"url(#clip250)\" style=\"stroke:#000000; stroke-width:4; stroke-opacity:1; fill:none\" points=\"\n",
       "  205.07,1486.45 205.07,47.2441 \n",
       "  \"/>\n",
       "<polyline clip-path=\"url(#clip250)\" style=\"stroke:#000000; stroke-width:4; stroke-opacity:1; fill:none\" points=\"\n",
       "  205.07,1213.08 230.842,1213.08 \n",
       "  \"/>\n",
       "<polyline clip-path=\"url(#clip250)\" style=\"stroke:#000000; stroke-width:4; stroke-opacity:1; fill:none\" points=\"\n",
       "  205.07,885.608 230.842,885.608 \n",
       "  \"/>\n",
       "<polyline clip-path=\"url(#clip250)\" style=\"stroke:#000000; stroke-width:4; stroke-opacity:1; fill:none\" points=\"\n",
       "  205.07,558.14 230.842,558.14 \n",
       "  \"/>\n",
       "<polyline clip-path=\"url(#clip250)\" style=\"stroke:#000000; stroke-width:4; stroke-opacity:1; fill:none\" points=\"\n",
       "  205.07,230.672 230.842,230.672 \n",
       "  \"/>\n",
       "<path clip-path=\"url(#clip250)\" d=\"M 0 0 M50.9921 1213.53 L80.6679 1213.53 L80.6679 1217.46 L50.9921 1217.46 L50.9921 1213.53 Z\" fill=\"#000000\" fill-rule=\"evenodd\" fill-opacity=\"1\" /><path clip-path=\"url(#clip250)\" d=\"M 0 0 M95.7373 1198.87 Q92.1262 1198.87 90.2975 1202.44 Q88.4919 1205.98 88.4919 1213.11 Q88.4919 1220.22 90.2975 1223.78 Q92.1262 1227.32 95.7373 1227.32 Q99.3715 1227.32 101.177 1223.78 Q103.006 1220.22 103.006 1213.11 Q103.006 1205.98 101.177 1202.44 Q99.3715 1198.87 95.7373 1198.87 M95.7373 1195.17 Q101.547 1195.17 104.603 1199.78 Q107.682 1204.36 107.682 1213.11 Q107.682 1221.84 104.603 1226.44 Q101.547 1231.03 95.7373 1231.03 Q89.9271 1231.03 86.8484 1226.44 Q83.7929 1221.84 83.7929 1213.11 Q83.7929 1204.36 86.8484 1199.78 Q89.9271 1195.17 95.7373 1195.17 Z\" fill=\"#000000\" fill-rule=\"evenodd\" fill-opacity=\"1\" /><path clip-path=\"url(#clip250)\" d=\"M 0 0 M112.751 1224.48 L117.635 1224.48 L117.635 1230.36 L112.751 1230.36 L112.751 1224.48 Z\" fill=\"#000000\" fill-rule=\"evenodd\" fill-opacity=\"1\" /><path clip-path=\"url(#clip250)\" d=\"M 0 0 M126.732 1226.42 L143.052 1226.42 L143.052 1230.36 L121.107 1230.36 L121.107 1226.42 Q123.77 1223.67 128.353 1219.04 Q132.959 1214.38 134.14 1213.04 Q136.385 1210.52 137.265 1208.78 Q138.168 1207.02 138.168 1205.33 Q138.168 1202.58 136.223 1200.84 Q134.302 1199.11 131.2 1199.11 Q129.001 1199.11 126.547 1199.87 Q124.117 1200.63 121.339 1202.18 L121.339 1197.46 Q124.163 1196.33 126.617 1195.75 Q129.07 1195.17 131.107 1195.17 Q136.478 1195.17 139.672 1197.86 Q142.867 1200.54 142.867 1205.03 Q142.867 1207.16 142.056 1209.08 Q141.269 1210.98 139.163 1213.57 Q138.584 1214.24 135.482 1217.46 Q132.381 1220.66 126.732 1226.42 Z\" fill=\"#000000\" fill-rule=\"evenodd\" fill-opacity=\"1\" /><path clip-path=\"url(#clip250)\" d=\"M 0 0 M148.168 1195.8 L166.524 1195.8 L166.524 1199.73 L152.45 1199.73 L152.45 1208.2 Q153.468 1207.86 154.487 1207.69 Q155.505 1207.51 156.524 1207.51 Q162.311 1207.51 165.691 1210.68 Q169.07 1213.85 169.07 1219.27 Q169.07 1224.85 165.598 1227.95 Q162.126 1231.03 155.806 1231.03 Q153.63 1231.03 151.362 1230.66 Q149.117 1230.29 146.709 1229.55 L146.709 1224.85 Q148.793 1225.98 151.015 1226.54 Q153.237 1227.09 155.714 1227.09 Q159.718 1227.09 162.056 1224.99 Q164.394 1222.88 164.394 1219.27 Q164.394 1215.66 162.056 1213.55 Q159.718 1211.44 155.714 1211.44 Q153.839 1211.44 151.964 1211.86 Q150.112 1212.28 148.168 1213.16 L148.168 1195.8 Z\" fill=\"#000000\" fill-rule=\"evenodd\" fill-opacity=\"1\" /><path clip-path=\"url(#clip250)\" d=\"M 0 0 M93.1447 871.406 Q89.5336 871.406 87.7049 874.971 Q85.8993 878.513 85.8993 885.642 Q85.8993 892.749 87.7049 896.314 Q89.5336 899.855 93.1447 899.855 Q96.7789 899.855 98.5845 896.314 Q100.413 892.749 100.413 885.642 Q100.413 878.513 98.5845 874.971 Q96.7789 871.406 93.1447 871.406 M93.1447 867.703 Q98.9548 867.703 102.01 872.309 Q105.089 876.892 105.089 885.642 Q105.089 894.369 102.01 898.976 Q98.9548 903.559 93.1447 903.559 Q87.3345 903.559 84.2558 898.976 Q81.2003 894.369 81.2003 885.642 Q81.2003 876.892 84.2558 872.309 Q87.3345 867.703 93.1447 867.703 Z\" fill=\"#000000\" fill-rule=\"evenodd\" fill-opacity=\"1\" /><path clip-path=\"url(#clip250)\" d=\"M 0 0 M110.158 897.008 L115.043 897.008 L115.043 902.888 L110.158 902.888 L110.158 897.008 Z\" fill=\"#000000\" fill-rule=\"evenodd\" fill-opacity=\"1\" /><path clip-path=\"url(#clip250)\" d=\"M 0 0 M130.112 871.406 Q126.501 871.406 124.672 874.971 Q122.867 878.513 122.867 885.642 Q122.867 892.749 124.672 896.314 Q126.501 899.855 130.112 899.855 Q133.746 899.855 135.552 896.314 Q137.381 892.749 137.381 885.642 Q137.381 878.513 135.552 874.971 Q133.746 871.406 130.112 871.406 M130.112 867.703 Q135.922 867.703 138.978 872.309 Q142.056 876.892 142.056 885.642 Q142.056 894.369 138.978 898.976 Q135.922 903.559 130.112 903.559 Q124.302 903.559 121.223 898.976 Q118.168 894.369 118.168 885.642 Q118.168 876.892 121.223 872.309 Q124.302 867.703 130.112 867.703 Z\" fill=\"#000000\" fill-rule=\"evenodd\" fill-opacity=\"1\" /><path clip-path=\"url(#clip250)\" d=\"M 0 0 M157.126 871.406 Q153.515 871.406 151.686 874.971 Q149.88 878.513 149.88 885.642 Q149.88 892.749 151.686 896.314 Q153.515 899.855 157.126 899.855 Q160.76 899.855 162.566 896.314 Q164.394 892.749 164.394 885.642 Q164.394 878.513 162.566 874.971 Q160.76 871.406 157.126 871.406 M157.126 867.703 Q162.936 867.703 165.992 872.309 Q169.07 876.892 169.07 885.642 Q169.07 894.369 165.992 898.976 Q162.936 903.559 157.126 903.559 Q151.316 903.559 148.237 898.976 Q145.181 894.369 145.181 885.642 Q145.181 876.892 148.237 872.309 Q151.316 867.703 157.126 867.703 Z\" fill=\"#000000\" fill-rule=\"evenodd\" fill-opacity=\"1\" /><path clip-path=\"url(#clip250)\" d=\"M 0 0 M95.7373 543.939 Q92.1262 543.939 90.2975 547.503 Q88.4919 551.045 88.4919 558.175 Q88.4919 565.281 90.2975 568.846 Q92.1262 572.387 95.7373 572.387 Q99.3715 572.387 101.177 568.846 Q103.006 565.281 103.006 558.175 Q103.006 551.045 101.177 547.503 Q99.3715 543.939 95.7373 543.939 M95.7373 540.235 Q101.547 540.235 104.603 544.841 Q107.682 549.425 107.682 558.175 Q107.682 566.901 104.603 571.508 Q101.547 576.091 95.7373 576.091 Q89.9271 576.091 86.8484 571.508 Q83.7929 566.901 83.7929 558.175 Q83.7929 549.425 86.8484 544.841 Q89.9271 540.235 95.7373 540.235 Z\" fill=\"#000000\" fill-rule=\"evenodd\" fill-opacity=\"1\" /><path clip-path=\"url(#clip250)\" d=\"M 0 0 M112.751 569.54 L117.635 569.54 L117.635 575.42 L112.751 575.42 L112.751 569.54 Z\" fill=\"#000000\" fill-rule=\"evenodd\" fill-opacity=\"1\" /><path clip-path=\"url(#clip250)\" d=\"M 0 0 M126.732 571.485 L143.052 571.485 L143.052 575.42 L121.107 575.42 L121.107 571.485 Q123.77 568.73 128.353 564.1 Q132.959 559.448 134.14 558.105 Q136.385 555.582 137.265 553.846 Q138.168 552.087 138.168 550.397 Q138.168 547.642 136.223 545.906 Q134.302 544.17 131.2 544.17 Q129.001 544.17 126.547 544.934 Q124.117 545.698 121.339 547.249 L121.339 542.527 Q124.163 541.392 126.617 540.814 Q129.07 540.235 131.107 540.235 Q136.478 540.235 139.672 542.92 Q142.867 545.605 142.867 550.096 Q142.867 552.226 142.056 554.147 Q141.269 556.045 139.163 558.638 Q138.584 559.309 135.482 562.526 Q132.381 565.721 126.732 571.485 Z\" fill=\"#000000\" fill-rule=\"evenodd\" fill-opacity=\"1\" /><path clip-path=\"url(#clip250)\" d=\"M 0 0 M148.168 540.86 L166.524 540.86 L166.524 544.795 L152.45 544.795 L152.45 553.267 Q153.468 552.92 154.487 552.758 Q155.505 552.573 156.524 552.573 Q162.311 552.573 165.691 555.744 Q169.07 558.915 169.07 564.332 Q169.07 569.911 165.598 573.012 Q162.126 576.091 155.806 576.091 Q153.63 576.091 151.362 575.721 Q149.117 575.35 146.709 574.61 L146.709 569.911 Q148.793 571.045 151.015 571.6 Q153.237 572.156 155.714 572.156 Q159.718 572.156 162.056 570.05 Q164.394 567.943 164.394 564.332 Q164.394 560.721 162.056 558.614 Q159.718 556.508 155.714 556.508 Q153.839 556.508 151.964 556.925 Q150.112 557.341 148.168 558.221 L148.168 540.86 Z\" fill=\"#000000\" fill-rule=\"evenodd\" fill-opacity=\"1\" /><path clip-path=\"url(#clip250)\" d=\"M 0 0 M94.14 216.471 Q90.529 216.471 88.7003 220.036 Q86.8947 223.577 86.8947 230.707 Q86.8947 237.813 88.7003 241.378 Q90.529 244.92 94.14 244.92 Q97.7743 244.92 99.5798 241.378 Q101.409 237.813 101.409 230.707 Q101.409 223.577 99.5798 220.036 Q97.7743 216.471 94.14 216.471 M94.14 212.767 Q99.9502 212.767 103.006 217.373 Q106.084 221.957 106.084 230.707 Q106.084 239.434 103.006 244.04 Q99.9502 248.623 94.14 248.623 Q88.3299 248.623 85.2512 244.04 Q82.1957 239.434 82.1957 230.707 Q82.1957 221.957 85.2512 217.373 Q88.3299 212.767 94.14 212.767 Z\" fill=\"#000000\" fill-rule=\"evenodd\" fill-opacity=\"1\" /><path clip-path=\"url(#clip250)\" d=\"M 0 0 M111.154 242.072 L116.038 242.072 L116.038 247.952 L111.154 247.952 L111.154 242.072 Z\" fill=\"#000000\" fill-rule=\"evenodd\" fill-opacity=\"1\" /><path clip-path=\"url(#clip250)\" d=\"M 0 0 M121.154 213.392 L139.51 213.392 L139.51 217.327 L125.436 217.327 L125.436 225.799 Q126.455 225.452 127.473 225.29 Q128.492 225.105 129.51 225.105 Q135.297 225.105 138.677 228.276 Q142.056 231.447 142.056 236.864 Q142.056 242.443 138.584 245.545 Q135.112 248.623 128.793 248.623 Q126.617 248.623 124.348 248.253 Q122.103 247.883 119.695 247.142 L119.695 242.443 Q121.779 243.577 124.001 244.133 Q126.223 244.688 128.7 244.688 Q132.705 244.688 135.043 242.582 Q137.381 240.475 137.381 236.864 Q137.381 233.253 135.043 231.147 Q132.705 229.04 128.7 229.04 Q126.825 229.04 124.95 229.457 Q123.098 229.873 121.154 230.753 L121.154 213.392 Z\" fill=\"#000000\" fill-rule=\"evenodd\" fill-opacity=\"1\" /><path clip-path=\"url(#clip250)\" d=\"M 0 0 M157.126 216.471 Q153.515 216.471 151.686 220.036 Q149.88 223.577 149.88 230.707 Q149.88 237.813 151.686 241.378 Q153.515 244.92 157.126 244.92 Q160.76 244.92 162.566 241.378 Q164.394 237.813 164.394 230.707 Q164.394 223.577 162.566 220.036 Q160.76 216.471 157.126 216.471 M157.126 212.767 Q162.936 212.767 165.992 217.373 Q169.07 221.957 169.07 230.707 Q169.07 239.434 165.992 244.04 Q162.936 248.623 157.126 248.623 Q151.316 248.623 148.237 244.04 Q145.181 239.434 145.181 230.707 Q145.181 221.957 148.237 217.373 Q151.316 212.767 157.126 212.767 Z\" fill=\"#000000\" fill-rule=\"evenodd\" fill-opacity=\"1\" /><polyline clip-path=\"url(#clip252)\" style=\"stroke:#009af9; stroke-width:4; stroke-opacity:1; fill:none\" points=\"\n",
       "  1277.29,1213.08 1315.6,1212.56 1353.87,1211.03 1392.04,1208.49 1430.06,1204.96 1467.89,1200.46 1505.47,1195.02 1542.75,1188.67 1579.68,1181.46 1616.19,1173.43 \n",
       "  1652.22,1164.64 1687.71,1155.15 1722.61,1145.01 1756.82,1134.28 1790.3,1123.05 1822.96,1111.37 1854.72,1099.33 1885.51,1086.99 1915.25,1074.44 1943.85,1061.75 \n",
       "  1971.23,1048.99 1997.31,1036.26 2022.01,1023.61 2045.23,1011.14 2066.91,998.895 2086.95,986.962 2105.28,975.403 2121.83,964.28 2136.51,953.653 2149.28,943.575 \n",
       "  2160.06,934.096 2168.79,925.26 2175.43,917.107 2179.93,909.668 2182.27,902.971 2182.39,897.039 2180.3,891.886 2175.97,887.522 2169.4,883.95 2160.6,881.166 \n",
       "  2149.58,879.164 2136.35,877.929 2120.95,877.44 2103.41,877.674 2083.79,878.601 2062.13,880.187 2038.49,882.395 2012.94,885.182 1985.55,888.504 1956.4,892.314 \n",
       "  1925.56,896.563 1893.14,901.198 1859.21,906.168 1823.87,911.421 1787.22,916.902 1749.35,922.561 1710.38,928.344 1670.39,934.202 1629.49,940.087 1587.78,945.953 \n",
       "  1545.37,951.756 1502.36,957.457 1458.84,963.019 1414.93,968.409 1370.71,973.597 1326.29,978.56 1281.77,983.277 1237.23,987.732 1192.79,991.913 1148.51,995.815 \n",
       "  1104.51,999.434 1060.86,1002.77 1017.66,1005.84 974.985,1008.65 932.925,1011.21 891.56,1013.54 850.972,1015.67 811.237,1017.62 772.432,1019.43 734.632,1021.11 \n",
       "  697.907,1022.72 662.328,1024.27 627.959,1025.82 594.867,1027.39 563.111,1029.04 532.749,1030.78 503.835,1032.67 476.421,1034.75 450.553,1037.04 426.273,1039.58 \n",
       "  403.62,1042.41 382.628,1045.55 363.326,1049.03 345.739,1052.88 329.885,1057.11 315.779,1061.74 303.429,1066.79 292.841,1072.25 284.012,1078.14 276.936,1084.45 \n",
       "  271.6,1091.17 267.99,1098.3 266.083,1105.82 265.854,1113.7 267.272,1121.92 270.304,1130.45 274.912,1139.26 281.055,1148.3 288.69,1157.53 297.769,1166.9 \n",
       "  308.246,1176.37 320.07,1185.87 333.19,1195.36 347.553,1204.77 363.108,1214.04 379.803,1223.1 397.585,1231.91 416.404,1240.38 436.209,1248.45 456.952,1256.07 \n",
       "  478.586,1263.16 501.066,1269.66 524.348,1275.52 548.393,1280.68 573.161,1285.07 598.615,1288.65 624.723,1291.36 651.451,1293.17 678.77,1294.03 706.653,1293.91 \n",
       "  735.073,1292.76 764.006,1290.58 793.429,1287.33 823.32,1283 853.656,1277.57 884.419,1271.05 915.585,1263.44 947.134,1254.74 979.043,1244.97 1011.29,1234.13 \n",
       "  1043.84,1222.27 1076.68,1209.4 1109.78,1195.56 1143.09,1180.8 1176.59,1165.14 1210.23,1148.65 1243.97,1131.37 1277.76,1113.37 1311.55,1094.7 1345.29,1075.42 \n",
       "  1378.9,1055.6 1412.32,1035.32 1445.48,1014.63 1478.31,993.621 1510.71,972.358 1542.61,950.917 1573.91,929.374 1604.52,907.805 1634.34,886.285 1663.26,864.889 \n",
       "  1691.19,843.692 1718.02,822.764 1743.64,802.178 1767.95,782.001 1790.83,762.301 1812.2,743.14 1831.93,724.578 1849.93,706.673 1866.12,689.477 1880.39,673.04 \n",
       "  1892.66,657.407 1902.86,642.619 1910.92,628.711 1916.77,615.716 1920.37,603.659 1921.67,592.564 1920.63,582.447 1917.25,573.32 1911.5,565.192 1903.39,558.065 \n",
       "  1892.94,551.94 1880.16,546.81 1865.1,542.666 1847.8,539.496 1828.32,537.284 1806.73,536.01 1783.11,535.653 1757.55,536.191 1730.15,537.596 1701.02,539.842 \n",
       "  1670.27,542.902 1638.02,546.747 1604.41,551.349 1569.56,556.678 1533.61,562.708 1496.71,569.411 1458.99,576.761 1420.61,584.734 1381.7,593.307 1342.42,602.458 \n",
       "  1302.9,612.169 1263.29,622.421 1223.73,633.2 1184.35,644.491 1145.3,656.282 1106.68,668.564 1068.64,681.327 1031.28,694.564 994.709,708.269 959.038,722.437 \n",
       "  924.361,737.061 890.765,752.137 858.332,767.661 827.135,783.626 797.237,800.026 768.696,816.854 741.559,834.1 715.865,851.752 691.648,869.798 668.929,888.221 \n",
       "  647.724,907.003 628.041,926.121 609.88,945.551 593.235,965.263 578.091,985.226 564.429,1005.4 552.222,1025.75 541.44,1046.24 532.046,1066.8 523.999,1087.4 \n",
       "  517.255,1107.98 511.766,1128.47 507.48,1148.83 504.346,1168.97 502.307,1188.85 501.31,1208.38 501.296,1227.51 502.209,1246.15 503.993,1264.23 506.593,1281.69 \n",
       "  509.955,1298.44 514.026,1314.41 518.756,1329.54 524.097,1343.75 530.004,1356.97 536.435,1369.14 543.351,1380.2 550.717,1390.09 558.5,1398.75 566.673,1406.14 \n",
       "  575.21,1412.21 584.092,1416.92 593.301,1420.24 602.825,1422.14 612.653,1422.59 622.782,1421.59 633.207,1419.13 643.932,1415.2 654.96,1409.8 666.298,1402.95 \n",
       "  677.958,1394.67 689.951,1384.98 702.294,1373.9 715.002,1361.47 728.095,1347.74 741.592,1332.74 755.514,1316.52 769.883,1299.14 784.719,1280.66 800.043,1261.13 \n",
       "  815.876,1240.61 832.238,1219.18 849.145,1196.9 866.614,1173.84 884.657,1150.06 903.285,1125.64 922.505,1100.65 942.321,1075.16 962.731,1049.23 983.731,1022.95 \n",
       "  1005.31,996.366 1027.45,969.558 1050.14,942.587 1073.35,915.519 1097.04,888.415 1121.18,861.336 1145.73,834.34 1170.62,807.484 1195.82,780.824 1221.25,754.41 \n",
       "  1246.85,728.295 1272.55,702.526 1298.26,677.151 1323.89,652.215 1349.38,627.76 1374.61,603.827 1399.49,580.457 1423.92,557.687 1447.8,535.552 1471.03,514.087 \n",
       "  1493.5,493.324 1515.11,473.295 1535.74,454.027 1555.31,435.549 1573.7,417.885 1590.82,401.06 1606.58,385.094 1620.89,370.009 1633.66,355.822 1644.82,342.549 \n",
       "  1654.3,330.203 1662.05,318.798 1667.99,308.342 1672.1,298.845 1674.34,290.31 1674.69,282.743 1673.13,276.145 1669.65,270.517 1664.28,265.856 1657.03,262.159 \n",
       "  1647.92,259.421 1637,257.635 1624.32,256.794 1609.95,256.89 1593.94,257.912 1576.38,259.851 1557.36,262.694 1536.98,266.432 1515.33,271.053 1492.53,276.545 \n",
       "  1468.69,282.897 1443.93,290.099 1418.38,298.141 1392.16,307.012 1365.4,316.704 1338.23,327.208 1310.77,338.517 1283.16,350.623 1255.53,363.521 1227.99,377.204 \n",
       "  1200.67,391.667 1173.68,406.906 1147.15,422.914 1121.16,439.687 1095.84,457.219 1071.26,475.505 1047.52,494.536 1024.7,514.306 1002.86,534.803 982.083,556.017 \n",
       "  962.411,577.933 943.895,600.535 926.574,623.804 910.48,647.718 895.636,672.252 882.056,697.375 869.747,723.055 858.709,749.255 848.935,775.932 840.411,803.042 \n",
       "  833.117,830.533 827.025,858.35 822.106,886.434 818.323,914.72 815.636,943.139 814.002,971.618 813.373,1000.08 813.702,1028.44 814.936,1056.62 817.025,1084.53 \n",
       "  819.915,1112.07 823.552,1139.15 827.885,1165.68 832.861,1191.56 838.43,1216.69 844.541,1240.98 851.147,1264.32 858.203,1286.62 865.665,1307.78 873.493,1327.71 \n",
       "  881.649,1346.33 890.099,1363.55 898.81,1379.28 907.755,1393.46 916.908,1406.01 926.246,1416.87 935.75,1425.98 945.403,1433.31 955.193,1438.8 965.108,1442.43 \n",
       "  975.14,1444.17 985.283,1444.01 995.535,1441.94 1005.89,1437.97 1016.36,1432.11 1026.93,1424.38 1037.61,1414.82 1048.41,1403.45 1059.33,1390.33 1070.37,1375.51 \n",
       "  1081.54,1359.05 1092.85,1341.02 1104.3,1321.48 1115.89,1300.53 1127.64,1278.23 1139.53,1254.68 1151.57,1229.97 1163.76,1204.18 1176.09,1177.42 1188.57,1149.78 \n",
       "  1201.18,1121.35 1213.91,1092.23 1226.75,1062.51 1239.68,1032.3 1252.68,1001.68 1265.73,970.745 1278.81,939.583 1291.88,908.28 1304.92,876.919 1317.89,845.58 \n",
       "  1330.75,814.34 1343.46,783.271 1355.98,752.441 1368.27,721.917 1380.26,691.758 1391.93,662.022 1403.21,632.763 1414.06,604.029 1424.41,575.866 1434.22,548.315 \n",
       "  1443.44,521.414 1452.02,495.197 1459.89,469.696 1467.02,444.936 1473.36,420.943 1478.86,397.738 1483.48,375.337 1487.18,353.757 1489.93,333.01 1491.71,313.107 \n",
       "  1492.48,294.054 1492.22,275.857 1490.93,258.521 1488.59,242.047 1485.21,226.436 1480.78,211.685 1475.33,197.794 1468.85,184.757 1461.39,172.572 1452.97,161.232 \n",
       "  1443.62,150.731 1433.39,141.065 1422.32,132.226 1410.48,124.208 1397.92,117.005 1384.7,110.61 1370.9,105.018 1356.58,100.222 1341.83,96.2196 1326.72,93.0052 \n",
       "  1311.34,90.5758 1295.77,88.9289 1280.1,88.0626 1264.42,87.9763 1248.8,88.67 1233.34,90.1448 1218.13,92.4026 1203.24,95.446 1188.76,99.2787 1174.77,103.905 \n",
       "  1161.34,109.33 1148.54,115.558 1136.44,122.596 1125.11,130.451 1114.59,139.127 1104.94,148.633 1096.21,158.973 1088.43,170.155 1081.64,182.183 1075.87,195.064 \n",
       "  1071.12,208.801 1067.43,223.397 1064.79,238.855 1063.2,255.176 1062.67,272.36 1063.17,290.405 1064.7,309.306 1067.22,329.059 1070.71,349.656 1075.15,371.086 \n",
       "  1080.48,393.337 1086.68,416.394 1093.7,440.24 1101.48,464.853 1109.99,490.211 1119.17,516.287 1128.96,543.049 1139.32,570.466 1150.19,598.499 1161.52,627.109 \n",
       "  1173.26,656.25 1185.34,685.874 1197.72,715.93 1210.36,746.361 1223.19,777.107 1236.19,808.104 1249.3,839.285 1262.49,870.578 1275.71,901.908 1288.94,933.197 \n",
       "  1302.14,964.362 1315.29,995.32 1328.35,1025.98 1341.32,1056.26 1354.17,1086.05 1366.89,1115.28 1379.46,1143.83 1391.88,1171.63 1404.13,1198.57 1416.22,1224.55 \n",
       "  1428.15,1249.48 1439.9,1273.28 1451.49,1295.85 1462.92,1317.1 1474.19,1336.95 1485.3,1355.32 1496.27,1372.14 1507.1,1387.34 1517.79,1400.86 1528.36,1412.64 \n",
       "  1538.8,1422.63 1549.13,1430.8 1559.34,1437.12 1569.44,1441.55 1579.43,1444.09 1589.3,1444.73 1599.07,1443.47 1608.71,1440.32 1618.23,1435.31 1627.61,1428.47 \n",
       "  1636.84,1419.83 1645.9,1409.43 1654.78,1397.34 1663.45,1383.61 1671.89,1368.3 1680.07,1351.51 1687.96,1333.29 1695.53,1313.73 1702.73,1292.93 1709.53,1270.98 \n",
       "  1715.89,1247.96 1721.75,1223.98 1727.08,1199.12 1731.82,1173.5 1735.93,1147.2 1739.34,1120.32 1742.02,1092.96 1743.9,1065.22 1744.93,1037.17 1745.07,1008.93 \n",
       "  1744.26,980.555 1742.45,952.145 1739.59,923.773 1735.65,895.514 1730.57,867.437 1724.34,839.607 1716.91,812.086 1708.25,784.928 1698.36,758.185 1687.2,731.904 \n",
       "  1674.78,706.129 1661.1,680.896 1646.16,656.24 1629.97,632.19 1612.56,608.775 1593.96,586.016 1574.21,563.933 1553.35,542.544 1531.44,521.863 1508.54,501.902 \n",
       "  1484.72,482.673 1460.07,464.183 1434.67,446.44 1408.61,429.452 1382,413.224 1354.93,397.762 1327.53,383.072 1299.9,369.158 1272.17,356.027 1244.47,343.684 \n",
       "  1216.92,332.137 1189.65,321.393 1162.78,311.459 1136.45,302.344 1110.79,294.058 1085.91,286.61 1061.96,280.012 1039.04,274.273 1017.27,269.405 996.761,265.419 \n",
       "  977.618,262.328 959.936,260.142 943.805,258.873 929.305,258.53 916.506,259.124 905.472,260.664 896.253,263.156 888.891,266.609 883.417,271.027 879.851,276.413 \n",
       "  878.202,282.77 878.468,290.097 880.636,298.393 884.685,307.654 890.581,317.875 898.28,329.047 907.732,341.161 918.874,354.204 931.639,368.164 945.951,383.025 \n",
       "  961.726,398.768 978.876,415.374 997.307,432.821 1016.92,451.086 1037.62,470.144 1059.3,489.968 1081.85,510.528 1105.17,531.796 1129.15,553.738 1153.69,576.321 \n",
       "  1178.68,599.51 1204.03,623.267 1229.64,647.554 1255.41,672.33 1281.25,697.553 1307.08,723.178 1332.82,749.16 1358.39,775.45 1383.72,801.999 1408.76,828.754 \n",
       "  1433.43,855.662 1457.7,882.667 1481.52,909.712 1504.85,936.736 1527.65,963.679 1549.9,990.476 1571.58,1017.06 1592.67,1043.37 1613.16,1069.34 1633.05,1094.9 \n",
       "  1652.34,1119.97 1671.02,1144.49 1689.11,1168.39 1706.61,1191.6 1723.55,1214.04 1739.92,1235.66 1755.76,1256.37 1771.08,1276.13 1785.9,1294.86 1800.24,1312.5 \n",
       "  1814.13,1328.99 1827.58,1344.29 1840.63,1358.34 1853.28,1371.09 1865.55,1382.51 1877.48,1392.55 1889.06,1401.2 1900.32,1408.42 1911.26,1414.19 1921.9,1418.51 \n",
       "  1932.23,1421.36 1942.27,1422.75 1952.01,1422.68 1961.45,1421.17 1970.57,1418.23 1979.37,1413.9 1987.83,1408.2 1995.93,1401.17 2003.65,1392.86 2010.96,1383.31 \n",
       "  2017.82,1372.57 2024.21,1360.71 2030.09,1347.77 2035.42,1333.84 2040.15,1318.96 2044.23,1303.22 2047.61,1286.69 2050.25,1269.43 2052.09,1251.51 2053.08,1233.03 \n",
       "  2053.15,1214.03 2052.26,1194.6 2050.34,1174.82 2047.34,1154.73 2043.21,1134.43 2037.9,1113.96 2031.34,1093.39 2023.5,1072.78 2014.33,1052.19 2003.78,1031.66 \n",
       "  1991.82,1011.24 1978.42,990.99 1963.55,970.937 1947.19,951.121 1929.32,931.575 1909.93,912.33 1889.03,893.412 1866.62,874.843 1842.71,856.643 1817.32,838.83 \n",
       "  1790.49,821.417 1762.25,804.417 1732.65,787.838 1701.75,771.691 1669.59,755.981 1636.27,740.716 1601.84,725.9 1566.41,711.538 1530.07,697.636 1492.91,684.2 \n",
       "  1455.05,671.236 1416.6,658.751 1377.68,646.755 1338.41,635.256 1298.94,624.268 1259.39,613.804 1219.91,603.879 1180.63,594.509 1141.7,585.716 1103.26,577.518 \n",
       "  1065.46,569.94 1028.45,563.005 992.367,556.739 957.354,551.169 923.548,546.323 891.084,542.229 860.091,538.916 830.693,536.411 803.006,534.744 777.14,533.941 \n",
       "  753.194,534.028 731.261,535.028 711.423,536.965 693.752,539.857 678.309,543.722 665.145,548.572 654.297,554.417 645.793,561.263 639.649,569.113 635.868,577.964 \n",
       "  634.443,587.809 635.355,598.637 638.574,610.432 644.061,623.172 651.764,636.833 661.623,651.383 673.572,666.788 687.534,683.007 703.426,699.999 721.159,717.713 \n",
       "  740.637,736.097 761.764,755.097 784.436,774.653 808.549,794.703 833.996,815.18 860.671,836.018 888.466,857.147 917.275,878.494 946.995,899.986 977.522,921.55 \n",
       "  1008.76,943.111 1040.61,964.592 1072.98,985.919 1105.78,1007.02 1138.93,1027.81 1172.35,1048.24 1205.97,1068.21 1239.72,1087.67 1273.54,1106.55 1307.36,1124.78 \n",
       "  1341.14,1142.31 1374.81,1159.07 1408.35,1175.02 1441.7,1190.1 1474.84,1204.27 1507.72,1217.49 1540.31,1229.72 1572.6,1240.94 1604.55,1251.11 1636.13,1260.22 \n",
       "  1667.33,1268.25 1698.13,1275.2 1728.5,1281.06 1758.42,1285.83 1787.88,1289.52 1816.85,1292.16 1845.3,1293.74 1873.22,1294.31 1900.58,1293.89 1927.35,1292.52 \n",
       "  1953.51,1290.22 1979.02,1287.06 2003.85,1283.07 2027.96,1278.31 2051.33,1272.83 2073.9,1266.68 2095.64,1259.93 2116.51,1252.64 2136.45,1244.87 2155.42,1236.69 \n",
       "  2173.38,1228.15 2190.26,1219.33 2206.03,1210.28 2220.62,1201.07 2233.99,1191.76 2246.09,1182.4 2256.86,1173.07 2266.26,1163.8 2274.24,1154.66 2280.75,1145.69 \n",
       "  2285.75,1136.93 2289.19,1128.43 2291.05,1120.21 2291.27,1112.32 2289.84,1104.78 2286.73,1097.61 2281.91,1090.83 2275.36,1084.46 2267.08,1078.49 2257.05,1072.94 \n",
       "  2245.28,1067.8 2231.75,1063.06 2216.49,1058.72 2199.5,1054.76 2180.8,1051.16 2160.42,1047.91 2138.37,1044.96 2114.7,1042.3 2089.43,1039.89 2062.61,1037.71 \n",
       "  2034.29,1035.7 2004.5,1033.85 1973.31,1032.1 1940.77,1030.43 1906.94,1028.79 1871.88,1027.14 1835.65,1025.45 1798.33,1023.68 1759.97,1021.79 1720.66,1019.77 \n",
       "  1680.48,1017.56 1639.48,1015.15 1597.76,1012.52 1555.39,1009.64 1512.46,1006.5 1469.06,1003.08 1425.25,999.383 1381.15,995.395 1336.82,991.121 1292.37,986.566 \n",
       "  1247.89,981.739 1203.48,976.656 1159.22,971.335 1115.22,965.8 1071.57,960.079 1028.38,954.202 985.748,948.207 943.774,942.132 902.562,936.019 862.215,929.915 \n",
       "  822.835,923.866 784.525,917.922 747.386,912.136 711.519,906.56 677.02,901.246 643.985,896.248 612.508,891.619 582.677,887.411 554.578,883.675 528.29,880.459 \n",
       "  503.889,877.81 481.443,875.769 461.017,874.379 442.666,873.673 426.439,873.685 412.377,874.44 400.514,875.96 390.874,878.263 383.474,881.36 378.323,885.255 \n",
       "  375.419,889.948 374.754,895.433 376.312,901.697 380.066,908.721 385.983,916.48 394.022,924.944 404.137,934.076 416.273,943.835 430.369,954.173 446.361,965.038 \n",
       "  464.177,976.374 483.744,988.12 504.985,1000.21 527.818,1012.58 552.162,1025.15 577.932,1037.86 605.044,1050.62 633.413,1063.37 662.955,1076.02 693.586,1088.5 \n",
       "  725.225,1100.73 757.791,1112.63 791.206,1124.13 825.393,1135.17 860.28,1145.66 895.796,1155.54 931.872,1164.76 968.445,1173.24 1005.45,1180.95 1042.83,1187.82 \n",
       "  1080.52,1193.82 1118.48,1198.9 1156.64,1203.04 1194.96,1206.21 1233.38,1208.38 1271.86,1209.56 1310.35,1209.72 1348.79,1208.88 1387.15,1207.03 1425.36,1204.2 \n",
       "  1463.38,1200.39 1501.16,1195.65 1538.65,1190 1575.79,1183.47 1612.52,1176.12 1648.78,1168 1684.52,1159.15 1719.66,1149.65 1754.14,1139.54 1787.89,1128.9 \n",
       "  1820.84,1117.79 1852.91,1106.29 1884.03,1094.48 1914.11,1082.42 1943.08,1070.2 1970.86,1057.89 1997.35,1045.57 2022.49,1033.31 2046.18,1021.18 2068.35,1009.27 \n",
       "  2088.92,997.636 2107.8,986.347 2124.93,975.467 2140.23,965.057 2153.63,955.17 2165.08,945.858 2174.51,937.166 2181.88,929.134 2187.13,921.798 2190.24,915.184 \n",
       "  2191.16,909.318 2189.89,904.215 2186.4,899.886 2180.69,896.337 2172.76,893.566 2162.61,891.566 2150.28,890.324 2135.77,889.822 2119.14,890.037 2100.42,890.939 \n",
       "  2079.65,892.497 2056.9,894.673 2032.23,897.426 2005.71,900.711 1977.41,904.482 1947.41,908.688 1915.79,913.279 1882.65,918.202 1848.06,923.402 1812.14,928.828 \n",
       "  1774.96,934.424 1736.63,940.138 1697.25,945.918 1656.92,951.715 1615.73,957.481 1573.79,963.171 1531.2,968.742 1488.05,974.157 1444.44,979.379 1400.48,984.378 \n",
       "  1356.26,989.126 1311.87,993.602 1267.41,997.788 1222.97,1001.67 1178.64,1005.24 1134.51,1008.49 1090.67,1011.43 1047.21,1014.05 1004.21,1016.38 961.752,1018.42 \n",
       "  919.928,1020.2 878.813,1021.73 838.487,1023.04 799.027,1024.16 760.51,1025.12 723.01,1025.96 686.599,1026.72 651.345,1027.43 617.318,1028.14 584.581,1028.88 \n",
       "  553.197,1029.69 523.224,1030.63 494.719,1031.72 467.734,1033.01 442.316,1034.54 418.511,1036.34 396.359,1038.45 375.894,1040.9 357.149,1043.71 340.147,1046.92 \n",
       "  324.912,1050.54 311.457,1054.59 299.793,1059.09 289.925,1064.03 281.853,1069.44 275.57,1075.29 271.067,1081.6 268.325,1088.34 267.324,1095.49 268.039,1103.05 \n",
       "  270.439,1110.98 274.49,1119.24 280.153,1127.82 287.387,1136.65 296.147,1145.7 306.385,1154.93 318.052,1164.27 331.097,1173.68 345.467,1183.09 361.108,1192.44 \n",
       "  377.967,1201.68 395.989,1210.74 415.12,1219.54 435.308,1228.04 456.501,1236.15 478.647,1243.82 501.698,1250.97 525.607,1257.55 550.327,1263.5 575.817,1268.75 \n",
       "  602.035,1273.25 628.941,1276.94 656.501,1279.78 684.678,1281.72 713.441,1282.71 742.759,1282.73 772.603,1281.73 802.946,1279.7 833.762,1276.6 865.024,1272.43 \n",
       "  896.708,1267.18 928.789,1260.84 961.243,1253.41 994.042,1244.91 1027.16,1235.34 1060.57,1224.72 1094.24,1213.08 1128.14,1200.46 1162.24,1186.87 1196.48,1172.38 \n",
       "  1230.85,1157.02 1265.28,1140.84 1299.72,1123.9 1334.13,1106.26 1368.45,1087.98 1402.61,1069.12 1436.54,1049.75 1470.18,1029.95 1503.43,1009.78 1536.23,989.324 \n",
       "  1568.49,968.654 1600.11,947.847 1630.99,926.98 1661.05,906.13 1690.18,885.373 1718.28,864.784 1745.24,844.439 1770.95,824.409 1795.32,804.766 1818.23,785.577 \n",
       "  1839.58,766.907 1859.27,748.819 1877.21,731.372 1893.29,714.619 1907.43,698.613 1919.54,683.398 1929.56,669.018 1937.4,655.51 1943.02,642.905 1946.35,631.232 \n",
       "  1947.37,620.513 1946.03,610.765 1942.32,602.002 1936.23,594.23 1927.75,587.452 1916.92,581.668 1903.74,576.87 1888.26,573.05 1870.52,570.193 1850.59,568.281 \n",
       "  1828.53,567.295 1804.42,567.211 1778.36,568.004 1750.44,569.646 1720.76,572.108 1689.44,575.36 1656.61,579.372 1622.39,584.113 1586.9,589.552 1550.29,595.658 \n",
       "  1512.7,602.402 1474.27,609.756 1435.13,617.692 1395.44,626.187 1355.34,635.215 1314.96,644.756 1274.46,654.789 1233.97,665.299 1193.62,676.268 1153.54,687.684 \n",
       "  1113.87,699.536 1074.73,711.813 1036.22,724.508 998.465,737.613 961.563,751.123 925.612,765.034 890.701,779.34 856.913,794.038 824.323,809.123 792.996,824.591 \n",
       "  762.992,840.435 734.362,856.65 707.148,873.226 681.386,890.154 657.103,907.42 634.318,925.011 613.044,942.907 593.284,961.09 575.036,979.535 558.292,998.214 \n",
       "  543.035,1017.1 529.246,1036.15 516.896,1055.34 505.954,1074.62 496.383,1093.94 488.144,1113.26 481.192,1132.53 475.479,1151.69 470.955,1170.68 467.571,1189.45 \n",
       "  465.271,1207.93 464.003,1226.06 463.71,1243.76 464.339,1260.98 465.836,1277.65 468.148,1293.69 471.222,1309.04 475.008,1323.63 479.459,1337.39 484.529,1350.27 \n",
       "  490.175,1362.19 496.357,1373.09 503.038,1382.93 510.186,1391.65 517.77,1399.19 525.764,1405.51 534.146,1410.58 542.896,1414.35 552.001,1416.8 561.449,1417.91 \n",
       "  571.232,1417.65 581.346,1416.01 591.792,1412.99 602.572,1408.58 613.691,1402.79 625.16,1395.63 636.99,1387.13 649.195,1377.29 661.792,1366.16 674.798,1353.75 \n",
       "  688.235,1340.12 702.122,1325.3 716.481,1309.33 731.336,1292.28 746.707,1274.19 762.619,1255.11 779.09,1235.12 796.143,1214.26 813.795,1192.6 832.062,1170.21 \n",
       "  850.958,1147.14 870.494,1123.48 890.678,1099.27 911.512,1074.59 932.996,1049.5 955.126,1024.07 977.89,998.352 1001.27,972.42 1025.25,946.332 1049.81,920.148 \n",
       "  1074.9,893.926 1100.49,867.723 1126.53,841.596 1152.98,815.597 1179.76,789.778 1206.83,764.191 1234.11,738.884 1261.52,713.905 1288.97,689.299 1316.39,665.11 \n",
       "  1343.68,641.38 1370.74,618.152 1397.47,595.464 1423.76,573.356 1449.52,551.862 1474.62,531.02 1498.97,510.862 1522.44,491.422 1544.93,472.73 1566.33,454.815 \n",
       "  1586.54,437.706 1605.44,421.427 1622.94,406.004 1638.94,391.458 1653.36,377.811 1666.11,365.081 1677.12,353.284 1686.31,342.434 1693.64,332.545 1699.04,323.625 \n",
       "  1702.49,315.683 1703.95,308.723 1703.4,302.751 1700.85,297.766 1696.28,293.768 1689.72,290.755 1681.2,288.721 1670.74,287.66 1658.41,287.564 1644.25,288.424 \n",
       "  1628.34,290.229 1610.75,292.968 1591.58,296.628 1570.92,301.195 1548.86,306.657 1525.53,312.999 1501.04,320.208 1475.5,328.27 1449.05,337.171 1421.81,346.898 \n",
       "  1393.91,357.438 1365.48,368.781 1336.66,380.913 1307.57,393.824 1278.36,407.504 1249.14,421.943 1220.03,437.132 1191.17,453.061 1162.67,469.722 1134.63,487.105 \n",
       "  1107.17,505.202 1080.38,524.002 1054.35,543.494 1029.17,563.668 1004.91,584.509 981.652,606.003 959.444,628.133 938.342,650.879 918.391,674.22 899.625,698.132 \n",
       "  882.074,722.585 865.756,747.549 850.683,772.989 836.859,798.866 824.281,825.136 812.94,851.752 802.82,878.664 793.898,905.814 786.146,933.144 779.533,960.588 \n",
       "  774.021,988.078 769.571,1015.54 766.138,1042.9 763.675,1070.08 762.135,1096.99 761.467,1123.55 761.62,1149.67 762.543,1175.26 764.183,1200.23 766.49,1224.48 \n",
       "  769.413,1247.92 772.903,1270.46 776.914,1292.01 781.4,1312.47 786.317,1331.76 791.626,1349.79 797.289,1366.49 803.272,1381.77 809.541,1395.56 816.07,1407.8 \n",
       "  822.833,1418.42 829.808,1427.37 836.976,1434.6 844.323,1440.08 851.837,1443.78 859.507,1445.66 867.329,1445.72 875.3,1443.94 883.419,1440.33 891.689,1434.91 \n",
       "  900.115,1427.68 908.703,1418.67 917.463,1407.93 926.406,1395.49 935.542,1381.4 944.886,1365.71 954.453,1348.5 964.256,1329.82 974.31,1309.76 984.632,1288.37 \n",
       "  995.235,1265.76 1006.13,1242 1017.34,1217.18 1028.87,1191.39 1040.73,1164.72 1052.93,1137.25 1065.47,1109.09 1078.37,1080.31 1091.61,1051.02 1105.2,1021.29 \n",
       "  1119.12,991.219 1133.38,960.886 1147.96,930.374 1162.84,899.762 1178,869.128 1193.42,838.544 1209.05,808.079 1224.88,777.801 1240.86,747.774 1256.95,718.055 \n",
       "  1273.1,688.702 1289.27,659.767 1305.4,631.299 1321.43,603.343 1337.3,575.943 1352.95,549.138 1368.31,522.963 1383.32,497.451 1397.91,472.634 1412,448.537 \n",
       "  1425.53,425.186 1438.44,402.603 1450.64,380.808 1462.08,359.818 1472.68,339.648 1482.39,320.312 1491.14,301.82 1498.88,284.183 1505.56,267.407 1511.13,251.498 \n",
       "  1515.55,236.461 1518.79,222.299 1520.81,209.012 1521.59,196.602 1521.12,185.067 1519.39,174.406 1516.4,164.614 1512.15,155.69 1506.66,147.628 1499.95,140.423 \n",
       "  1492.06,134.071 1483.01,128.564 1472.85,123.899 1461.64,120.068 1449.42,117.065 1436.27,114.886 1422.26,113.526 1407.46,112.978 1391.95,113.24 1375.81,114.307 \n",
       "  1359.14,116.176 1342.02,118.846 1324.56,122.314 1306.83,126.581 1288.95,131.648 1271,137.514 1253.09,144.182 1235.31,151.656 1217.75,159.938 1200.5,169.033 \n",
       "  1183.66,178.945 1167.3,189.679 1151.5,201.241 1136.35,213.635 1121.92,226.867 1108.26,240.941 1095.44,255.862 1083.51,271.633 1072.52,288.257 1062.51,305.734 \n",
       "  1053.51,324.064 1045.55,343.246 1038.64,363.275 1032.81,384.145 1028.06,405.848 1024.38,428.372 1021.78,451.702 1020.24,475.823 1019.75,500.712 1020.28,526.346 \n",
       "  1021.8,552.696 1024.28,579.732 1027.7,607.416 1032,635.71 1037.14,664.567 1043.1,693.941 1049.8,723.778 1057.22,754.02 1065.3,784.605 1073.99,815.467 \n",
       "  1083.24,846.536 1093,877.736 1103.24,908.99 1113.89,940.213 1124.92,971.32 1136.27,1002.22 1147.92,1032.82 1159.82,1063.04 1171.93,1092.76 1184.23,1121.89 \n",
       "  1196.67,1150.33 1209.23,1177.98 1221.89,1204.75 1234.62,1230.52 1247.4,1255.21 1260.21,1278.71 1273.04,1300.94 1285.87,1321.8 1298.7,1341.21 1311.51,1359.08 \n",
       "  1324.29,1375.34 1337.05,1389.92 1349.77,1402.76 1362.46,1413.81 1375.1,1423.01 1387.7,1430.32 1400.25,1435.72 1412.76,1439.18 1425.21,1440.69 1437.6,1440.25 \n",
       "  1449.94,1437.86 1462.2,1433.54 1474.39,1427.31 1486.5,1419.2 1498.51,1409.26 1510.4,1397.54 1522.17,1384.09 1533.79,1368.98 1545.25,1352.28 1556.51,1334.07 \n",
       "  1567.55,1314.44 1578.34,1293.46 1588.85,1271.24 1599.03,1247.86 1608.86,1223.43 1618.28,1198.05 1627.26,1171.81 1635.75,1144.83 1643.69,1117.19 1651.04,1089 \n",
       "  1657.75,1060.37 1663.76,1031.38 1669.02,1002.14 1673.47,972.726 1677.07,943.237 1679.75,913.756 1681.47,884.362 1682.18,855.131 1681.83,826.137 1680.38,797.446 \n",
       "  1677.78,769.12 1674.01,741.218 1669.02,713.792 1662.8,686.89 1655.33,660.556 1646.58,634.828 1636.56,609.742 1625.26,585.327 1612.7,561.61 1598.88,538.614 \n",
       "  1583.83,516.356 1567.58,494.855 1550.18,474.122 1531.67,454.167 1512.1,435 1491.54,416.626 1470.06,399.05 1447.75,382.275 1424.68,366.303 1400.95,351.137 \n",
       "  1376.66,336.776 1351.91,323.223 1326.82,310.477 1301.49,298.54 1276.06,287.414 1250.62,277.1 1225.32,267.602 1200.26,258.922 1175.59,251.065 1151.41,244.037 \n",
       "  1127.86,237.843 1105.05,232.489 1083.1,227.983 1062.12,224.334 1042.23,221.548 1023.51,219.636 1006.08,218.605 990.013,218.466 975.395,219.226 962.299,220.895 \n",
       "  950.789,223.48 940.92,226.989 932.736,231.429 926.273,236.803 921.557,243.119 918.601,250.377 917.411,258.58 917.981,267.728 920.296,277.819 924.332,288.85 \n",
       "  930.052,300.817 937.415,313.711 946.369,327.525 956.855,342.248 968.807,357.866 982.15,374.367 996.806,391.732 1012.69,409.944 1029.72,428.982 1047.8,448.825 \n",
       "  1066.83,469.446 1086.73,490.822 1107.39,512.922 1128.71,535.718 1150.6,559.176 1172.97,583.262 1195.73,607.941 1218.77,633.173 1242.01,658.917 1265.37,685.131 \n",
       "  1288.78,711.77 1312.14,738.786 1335.4,766.128 1358.49,793.745 1381.35,821.582 1403.93,849.582 1426.17,877.684 1448.03,905.829 1469.48,933.95 1490.48,961.983 \n",
       "  1511.02,989.858 1531.06,1017.5 1550.6,1044.85 1569.62,1071.83 1588.12,1098.36 1606.1,1124.36 1623.55,1149.77 1640.49,1174.5 1656.91,1198.48 1672.85,1221.63 \n",
       "  1688.3,1243.88 1703.29,1265.16 1717.83,1285.39 1731.94,1304.51 1745.64,1322.46 1758.95,1339.16 1771.89,1354.57 1784.48,1368.62 1796.73,1381.28 1808.67,1392.5 \n",
       "  1820.31,1402.23 1831.66,1410.46 1842.74,1417.16 1853.55,1422.3 1864.1,1425.88 1874.4,1427.89 1884.43,1428.34 1894.21,1427.23 1903.72,1424.59 1912.95,1420.43 \n",
       "  1921.89,1414.79 1930.52,1407.7 1938.82,1399.21 1946.76,1389.36 1954.31,1378.21 1961.44,1365.82 1968.12,1352.25 1974.3,1337.57 1979.94,1321.86 1985,1305.17 \n",
       "  1989.42,1287.59 1993.15,1269.21 1996.14,1250.08 1998.33,1230.31 1999.66,1209.95 2000.09,1189.1 1999.55,1167.84 1997.98,1146.23 1995.32,1124.35 1991.52,1102.27 \n",
       "  1986.53,1080.07 1980.3,1057.8 1972.76,1035.53 1963.89,1013.33 1953.64,991.235 1941.96,969.309 1928.84,947.596 1914.25,926.139 1898.16,904.979 1880.57,884.149 \n",
       "  1861.46,863.682 1840.85,843.605 1818.73,823.944 1795.14,804.718 1770.1,785.947 1743.63,767.645 1715.79,749.826 1686.63,732.501 1656.2,715.679 1624.59,699.369 \n",
       "  1591.85,683.577 1558.09,668.31 1523.4,653.574 1487.87,639.375 1451.62,625.72 1414.76,612.616 1377.42,600.07 1339.71,588.093 1301.78,576.695 1263.76,565.888 \n",
       "  1225.79,555.685 1188.01,546.102 1150.58,537.155 1113.62,528.865 1077.3,521.249 1041.76,514.331 1007.14,508.133 973.585,502.678 941.232,497.992 910.216,494.1 \n",
       "  880.666,491.027 852.704,488.799 826.447,487.44 802.001,486.974 779.465,487.425 758.93,488.812 740.475,491.157 724.169,494.475 710.072,498.78 698.228,504.084 \n",
       "  688.675,510.395 681.435,517.717 676.521,526.051 673.932,535.392 673.658,545.734 675.674,557.065 679.948,569.367 686.436,582.622 695.084,596.803 705.828,611.881 \n",
       "  718.597,627.822 733.313,644.589 749.888,662.139 768.231,680.427 788.245,699.403 809.829,719.014 832.879,739.204 857.288,759.914 882.949,781.082 909.752,802.643 \n",
       "  937.592,824.533 966.359,846.681 995.951,869.019 1026.26,891.477 1057.2,913.981 1088.66,936.461 1120.56,958.845 1152.8,981.059 1185.32,1003.03 1218.02,1024.69 \n",
       "  1250.83,1045.98 1283.7,1066.81 1316.56,1087.12 1349.35,1106.86 1382.02,1125.96 1414.53,1144.35 1446.83,1161.99 1478.88,1178.82 1510.65,1194.8 1542.12,1209.87 \n",
       "  1573.26,1224 1604.03,1237.16 1634.43,1249.3 1664.43,1260.41 1694.02,1270.47 1723.18,1279.45 1751.89,1287.34 1780.15,1294.15 1807.93,1299.87 1835.22,1304.5 \n",
       "  1862.02,1308.06 1888.29,1310.56 1914.02,1312.02 1939.21,1312.46 1963.81,1311.93 1987.81,1310.45 2011.19,1308.06 2033.92,1304.81 2055.97,1300.74 2077.31,1295.9 \n",
       "  2097.89,1290.34 2117.7,1284.13 2136.68,1277.31 2154.8,1269.95 2172.01,1262.11 2188.27,1253.85 2203.53,1245.23 2217.75,1236.3 2230.88,1227.14 2242.86,1217.8 \n",
       "  2253.66,1208.34 2263.22,1198.82 2271.49,1189.28 2278.43,1179.78 2283.99,1170.38 2288.13,1161.1 2290.8,1152 2291.97,1143.11 2291.6,1134.47 2289.67,1126.11 \n",
       "  2286.12,1118.04 2280.96,1110.29 2274.14,1102.88 2265.66,1095.82 2255.5,1089.11 2243.66,1082.75 2230.13,1076.76 2214.91,1071.1 2198.01,1065.79 2179.45,1060.8 \n",
       "  2159.23,1056.12 2137.38,1051.73 2113.93,1047.59 2088.9,1043.69 2062.34,1040 2034.28,1036.49 2004.75,1033.12 1973.82,1029.86 1941.54,1026.68 1907.95,1023.55 \n",
       "  1873.11,1020.43 1837.1,1017.28 1799.96,1014.09 1761.78,1010.81 1722.61,1007.42 1682.54,1003.89 1641.64,1000.2 1599.99,996.337 1557.67,992.273 1514.76,987.998 \n",
       "  1471.35,983.503 1427.53,978.782 1383.39,973.835 1339.02,968.664 1294.51,963.276 1249.97,957.683 1205.48,951.901 1161.16,945.95 1117.1,939.856 1073.41,933.645 \n",
       "  1030.19,927.352 987.549,921.011 945.594,914.663 904.431,908.349 864.168,902.114 824.911,896.007 786.768,890.075 749.842,884.37 714.237,878.943 680.054,873.845 \n",
       "  647.391,869.128 616.341,864.844 586.996,861.042 559.441,857.77 533.757,855.074 510.017,852.999 488.29,851.584 468.638,850.867 451.114,850.878 435.764,851.648 \n",
       "  422.627,853.199 411.731,855.55 403.098,858.713 396.739,862.696 392.658,867.5 390.848,873.121 391.297,879.548 393.98,886.764 398.867,894.747 405.919,903.468 \n",
       "  415.089,912.894 426.324,922.982 439.565,933.69 454.746,944.965 471.797,956.752 490.642,968.992 511.203,981.621 533.399,994.571 557.144,1007.77 582.355,1021.15 \n",
       "  608.943,1034.63 636.821,1048.14 665.904,1061.6 696.104,1074.92 727.337,1088.04 759.521,1100.87 792.574,1113.34 826.417,1125.37 860.975,1136.9 896.175,1147.85 \n",
       "  931.947,1158.15 968.222,1167.75 1004.94,1176.59 1042.03,1184.61 1079.45,1191.77 1117.12,1198.03 1155.01,1203.34 1193.06,1207.68 1231.21,1211.02 1269.42,1213.36 \n",
       "  1307.64,1214.66 1345.82,1214.94 1383.92,1214.2 1421.88,1212.44 1459.66,1209.68 1497.22,1205.94 1534.49,1201.25 1571.43,1195.65 1607.98,1189.18 1644.08,1181.88 \n",
       "  1679.69,1173.81 1714.73,1165.02 1749.14,1155.57 1782.86,1145.52 1815.82,1134.95 1847.95,1123.92 1879.16,1112.51 1909.39,1100.8 1938.57,1088.85 1966.6,1076.75 \n",
       "  1993.41,1064.56 2018.92,1052.38 2043.05,1040.27 2065.71,1028.3 2086.83,1016.55 2106.34,1005.09 2124.15,993.98 2140.19,983.286 2154.4,973.063 2166.71,963.366 \n",
       "  2177.06,954.243 2185.4,945.739 2191.68,937.891 2195.85,930.732 2197.88,924.289 2197.76,918.582 2195.44,913.627 2190.93,909.432 2184.22,905.999 2175.31,903.327 \n",
       "  2164.22,901.405 2150.97,900.219 2135.58,899.749 2118.09,899.97 2098.55,900.853 2077,902.362 2053.51,904.46 2028.13,907.105 2000.93,910.251 1972,913.851 \n",
       "  1941.4,917.856 1909.22,922.213 1875.56,926.87 1840.49,931.774 1804.12,936.872 1766.53,942.11 1727.82,947.438 1688.09,952.804 1647.44,958.161 1605.97,963.461 \n",
       "  1563.77,968.663 1520.95,973.724 1477.61,978.61 1433.83,983.287 1389.72,987.725 1345.37,991.901 1300.88,995.795 1256.34,999.392 1211.84,1002.68 1167.48,1005.65 \n",
       "  1123.34,1008.31 1079.51,1010.66 1036.08,1012.7 993.144,1014.45 950.775,1015.93 909.059,1017.16 868.078,1018.16 827.913,1018.96 788.643,1019.59 750.345,1020.08 \n",
       "  713.093,1020.49 676.961,1020.83 642.02,1021.16 608.337,1021.51 575.981,1021.93 545.012,1022.45 515.491,1023.13 487.474,1024 461.015,1025.11 436.161,1026.48 \n",
       "  412.957,1028.17 391.443,1030.2 371.655,1032.59 353.622,1035.39 337.369,1038.62 322.917,1042.29 310.28,1046.42 299.466,1051.02 290.479,1056.1 283.316,1061.65 \n",
       "  277.97,1067.69 274.427,1074.19 272.669,1081.14 272.672,1088.53 274.409,1096.32 277.845,1104.5 282.945,1113.03 289.667,1121.86 297.967,1130.96 307.798,1140.27 \n",
       "  319.111,1149.76 331.852,1159.35 345.969,1169.01 361.407,1178.65 378.11,1188.23 396.022,1197.67 415.088,1206.91 435.251,1215.89 456.458,1224.54 478.656,1232.78 \n",
       "  501.792,1240.55 525.816,1247.79 550.68,1254.43 576.338,1260.41 602.746,1265.67 629.861,1270.16 657.645,1273.81 686.06,1276.59 715.071,1278.44 744.644,1279.33 \n",
       "  774.749,1279.22 805.355,1278.08 836.434,1275.88 867.958,1272.61 899.901,1268.26 932.237,1262.8 964.938,1256.26 997.978,1248.61 1031.33,1239.89 1064.96,1230.1 \n",
       "  1098.85,1219.27 1132.95,1207.43 1167.24,1194.6 1201.67,1180.83 1236.2,1166.17 1270.8,1150.65 1305.4,1134.34 1339.96,1117.29 1374.42,1099.56 1408.71,1081.21 \n",
       "  1442.77,1062.33 \n",
       "  \"/>\n",
       "<circle clip-path=\"url(#clip252)\" cx=\"1277.29\" cy=\"1213.08\" r=\"14\" fill=\"#e26f46\" fill-rule=\"evenodd\" fill-opacity=\"1\" stroke=\"#000000\" stroke-opacity=\"1\" stroke-width=\"3.2\"/>\n",
       "</svg>\n"
      ]
     },
     "execution_count": 21,
     "metadata": {},
     "output_type": "execute_result"
    }
   ],
   "source": [
    "plot(tr[:, 1], tr[:, 2], leg=false)\n",
    "scatter!([tr[1, 1]], [tr[1, 2]])"
   ]
  }
 ],
 "metadata": {
  "kernelspec": {
   "display_name": "Julia 1.5.2",
   "language": "julia",
   "name": "julia-1.5"
  },
  "language_info": {
   "file_extension": ".jl",
   "mimetype": "application/julia",
   "name": "julia",
   "version": "1.5.2"
  },
  "toc": {
   "base_numbering": 1,
   "nav_menu": {
    "height": "177px",
    "width": "356px"
   },
   "number_sections": false,
   "sideBar": true,
   "skip_h1_title": false,
   "title_cell": "Table of Contents",
   "title_sidebar": "Contents",
   "toc_cell": false,
   "toc_position": {
    "height": "calc(100% - 180px)",
    "left": "10px",
    "top": "150px",
    "width": "268.8px"
   },
   "toc_section_display": true,
   "toc_window_display": false
  },
  "varInspector": {
   "cols": {
    "lenName": 16,
    "lenType": 16,
    "lenVar": 40
   },
   "kernels_config": {
    "python": {
     "delete_cmd_postfix": "",
     "delete_cmd_prefix": "del ",
     "library": "var_list.py",
     "varRefreshCmd": "print(var_dic_list())"
    },
    "r": {
     "delete_cmd_postfix": ") ",
     "delete_cmd_prefix": "rm(",
     "library": "var_list.r",
     "varRefreshCmd": "cat(var_dic_list()) "
    }
   },
   "types_to_exclude": [
    "module",
    "function",
    "builtin_function_or_method",
    "instance",
    "_Feature"
   ],
   "window_display": false
  }
 },
 "nbformat": 4,
 "nbformat_minor": 4
}
