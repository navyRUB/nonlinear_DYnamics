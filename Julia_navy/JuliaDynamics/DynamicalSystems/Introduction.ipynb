{
 "cells": [
  {
   "cell_type": "markdown",
   "metadata": {},
   "source": [
    "# [DynamicalSystems.jl](https://github.com/JuliaDynamics/JuliaDynamics/tree/master/tutorials/Youtube_JuliaLang_tutorial)"
   ]
  },
  {
   "cell_type": "markdown",
   "metadata": {},
   "source": [
    "[Original code](https://github.com/JuliaDynamics/JuliaDynamics/blob/master/tutorials/Youtube_JuliaLang_tutorial/0.%20Introduction%2C%20Documentation%20and%20Installation.ipynb)"
   ]
  },
  {
   "cell_type": "markdown",
   "metadata": {},
   "source": [
    "`DynamicalSystems.jl` is an award winning library for nonlinear dynamics and Chaos. It is build on top of `DifferentialEquations.jl` to evolve systems in time. \n",
    "\n",
    "Paper \"DynamicalSystems.jl: A Julia software library for chaos\n",
    "and nonlinear dynamics\""
   ]
  },
  {
   "cell_type": "markdown",
   "metadata": {},
   "source": [
    "This https://www.youtube.com/watch?v=A8g9rdEfdNg "
   ]
  }
 ],
 "metadata": {
  "kernelspec": {
   "display_name": "Julia 1.5.2",
   "language": "julia",
   "name": "julia-1.5"
  },
  "language_info": {
   "file_extension": ".jl",
   "mimetype": "application/julia",
   "name": "julia",
   "version": "1.5.2"
  }
 },
 "nbformat": 4,
 "nbformat_minor": 2
}
